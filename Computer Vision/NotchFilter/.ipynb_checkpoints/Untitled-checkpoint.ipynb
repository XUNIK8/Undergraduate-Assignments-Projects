{
 "cells": [
  {
   "cell_type": "code",
   "execution_count": null,
   "metadata": {
    "ExecuteTime": {
     "start_time": "2021-03-14T12:33:35.628Z"
    }
   },
   "outputs": [
    {
     "name": "stdout",
     "output_type": "stream",
     "text": [
      "(674, 674)\n"
     ]
    }
   ],
   "source": [
    "import cv2\n",
    "import numpy as np\n",
    "import scipy\n",
    "from matplotlib import pyplot as plt\n",
    "\n",
    "def notch_filter(filename = 'b.tif'):\n",
    "    # get image information\n",
    "    img = cv2.imread(filename, 0)\n",
    "    Height_original, Width_original = np.shape(img)    # 获取宽高信息\n",
    "\n",
    "    #   parameter\n",
    "    N = 4\n",
    "    D0k = 2\n",
    "\n",
    "    #   DFT\n",
    "    img_float32 = np.float32(img)\n",
    "    # dft = cv2.dft(img_float32, flags=cv2.DFT_COMPLEX_OUTPUT)\n",
    "    dft = np.fft.fft2(img)\n",
    "    dft_shift = np.fft.fftshift(dft)\n",
    "\n",
    "    # 频谱图像双通道复数转换为0-255区间\n",
    "    # magitude_spectrum = 20*np.log(cv2.magnitude(dft_shift[:, :, 0], dft_shift[:, :, 1]))\n",
    "    magitude_spectrum = 20*np.log(np.abs(dft_shift))\n",
    "    magitude_spectrum_int = np.zeros((Height_original, Width_original), dtype='uint8')\n",
    "    for x in range(Height_original):\n",
    "        for y in range(Width_original):\n",
    "            index = np.int(magitude_spectrum[x][y])\n",
    "            # if index > 128:\n",
    "            #             #     index = 128\n",
    "            #             # elif index < 0:\n",
    "            #             #     index = 0\n",
    "            #             #     pass\n",
    "            magitude_spectrum_int[x][y] = index\n",
    "            pass\n",
    "        pass\n",
    "\n",
    "    # 标记图片亮点坐标\n",
    "    def mouse(event, x, y, flags, param):\n",
    "        if event == cv2.EVENT_LBUTTONDOWN:\n",
    "            xy = \"%d,%d\" % (x, y)\n",
    "            cv2.circle(img, (x, y), 1, (255, 255, 255), thickness=-1)\n",
    "            cv2.putText(img, xy, (x-25, y-25), cv2.FONT_HERSHEY_PLAIN,\n",
    "                        1.0, (255, 255, 255), thickness=1)\n",
    "            cv2.imshow(\"image\", img)\n",
    "\n",
    "    print(np.shape(magitude_spectrum_int))\n",
    "    img = magitude_spectrum_int\n",
    "    cv2.namedWindow(\"image\")\n",
    "    cv2.imshow(\"image\", img)\n",
    "    # cv2.resizeWindow(\"image\", 800, 600)\n",
    "    cv2.setMouseCallback(\"image\", mouse)\n",
    "    #  显示频谱图\n",
    "    # cv2.waitKey(0)\n",
    "    cv2.destroyAllWindows()\n",
    "\n",
    "    plt.figure(1)\n",
    "    plt.subplot(121)\n",
    "    plt.title('The spectrum before filtering')\n",
    "    plt.imshow(magitude_spectrum, cmap = 'gray')\n",
    "    # plt.show()\n",
    "    '''\n",
    "    亮点坐标\n",
    "    (426, 182)   |    (426, 294) \n",
    "    (426, 212)   |    (426, 323)\n",
    "    (426, 240)   |    (426, 352)\n",
    "    '''\n",
    "    p1 = (0, 85)\n",
    "    p2 = (0, 56)\n",
    "    p3 = (0, 27)\n",
    "\n",
    "    centerX = np.floor(Height_original / 2)  # 426.0\n",
    "    centerY = np.floor(Width_original / 2)   # 268.0\n",
    "\n",
    "    # 构建滤波器传递函数H_NR\n",
    "\n",
    "    H_NR = np.ones((Height_original, Width_original))\n",
    "    Dk = np.zeros((2, 3))\n",
    "\n",
    "    for u in range(Height_original):\n",
    "        for v in range(Width_original):\n",
    "            Dk[0][0] = np.sqrt((u-centerX-p1[0])**2 + (v-centerY-p1[1])**2)\n",
    "            Dk[0][1] = np.sqrt((u - centerX - p2[0]) ** 2 + (v - centerY - p2[1])**2)\n",
    "            Dk[0][2] = np.sqrt((u - centerX - p3[0]) ** 2 + (v - centerY - p3[1])**2)\n",
    "\n",
    "            Dk[1][0] = np.sqrt((u-centerX+p1[0])**2 + (v-centerY+p1[1])**2)\n",
    "            Dk[1][1] = np.sqrt((u - centerX + p2[0]) ** 2 + (v - centerY + p2[1])**2)\n",
    "            Dk[1][2] = np.sqrt((u - centerX + p3[0]) ** 2 + (v - centerY + p3[1])**2)\n",
    "\n",
    "            for i in Dk[0]:\n",
    "                H_NR[u][v] = H_NR[u][v] * (1/(1 + D0k/(i+0.01)))**N\n",
    "                pass\n",
    "            for i in Dk[1]:\n",
    "                H_NR[u][v] = H_NR[u][v] * (1/(1 + D0k/(i+0.01)))**N\n",
    "                pass\n",
    "            pass\n",
    "        pass\n",
    "\n",
    "    # IDFT\n",
    "\n",
    "    Gs = magitude_spectrum * H_NR\n",
    "\n",
    "    plt.figure(1)\n",
    "    plt.subplot(122)\n",
    "    plt.title('The spectrum after filtering')\n",
    "    plt.imshow(Gs, cmap = 'gray')\n",
    "\n",
    "    G = dft_shift * H_NR\n",
    "\n",
    "    iimg = np.fft.ifft2(G)\n",
    "    iimg = np.abs(iimg)\n",
    "\n",
    "\n",
    "    plt.figure(2)\n",
    "    plt.subplot(121)\n",
    "    plt.title('Before the filtering')\n",
    "    plt.imshow(img_float32, cmap = 'gray')\n",
    "    plt.subplot(122)\n",
    "    plt.title('After the filtering')\n",
    "    plt.imshow(iimg, cmap = 'gray')\n",
    "    plt.show()\n",
    "\n",
    "\n",
    "if __name__ == '__main__':\n",
    "    notch_filter()"
   ]
  }
 ],
 "metadata": {
  "kernelspec": {
   "display_name": "Python 3",
   "language": "python",
   "name": "python3"
  },
  "language_info": {
   "codemirror_mode": {
    "name": "ipython",
    "version": 3
   },
   "file_extension": ".py",
   "mimetype": "text/x-python",
   "name": "python",
   "nbconvert_exporter": "python",
   "pygments_lexer": "ipython3",
   "version": "3.7.1"
  },
  "varInspector": {
   "cols": {
    "lenName": 16,
    "lenType": 16,
    "lenVar": 40
   },
   "kernels_config": {
    "python": {
     "delete_cmd_postfix": "",
     "delete_cmd_prefix": "del ",
     "library": "var_list.py",
     "varRefreshCmd": "print(var_dic_list())"
    },
    "r": {
     "delete_cmd_postfix": ") ",
     "delete_cmd_prefix": "rm(",
     "library": "var_list.r",
     "varRefreshCmd": "cat(var_dic_list()) "
    }
   },
   "types_to_exclude": [
    "module",
    "function",
    "builtin_function_or_method",
    "instance",
    "_Feature"
   ],
   "window_display": false
  }
 },
 "nbformat": 4,
 "nbformat_minor": 4
}
