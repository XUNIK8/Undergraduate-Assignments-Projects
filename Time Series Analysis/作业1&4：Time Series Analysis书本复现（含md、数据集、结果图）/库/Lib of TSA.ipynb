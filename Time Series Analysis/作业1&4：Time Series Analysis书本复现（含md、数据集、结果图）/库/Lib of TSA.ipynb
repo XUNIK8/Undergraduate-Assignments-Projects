{
 "cells": [
  {
   "cell_type": "markdown",
   "metadata": {},
   "source": [
    "# Lib of Time Series Analysis"
   ]
  },
  {
   "cell_type": "markdown",
   "metadata": {
    "pycharm": {
     "name": "#%% md\n"
    }
   },
   "source": [
    "## TSA Model"
   ]
  },
  {
   "cell_type": "code",
   "execution_count": null,
   "metadata": {
    "pycharm": {
     "is_executing": false,
     "name": "#%%\n"
    }
   },
   "outputs": [],
   "source": [
    "import numpy as np\n",
    "from scipy.optimize import minimize\n",
    "import math\n",
    "from sklearn.neural_network import MLPClassifier\n",
    "from sklearn.neighbors import KNeighborsClassifier\n",
    "from sklearn.ensemble import RandomForestClassifier\n",
    "from sklearn.tree import DecisionTreeRegressor\n",
    "import matplotlib as plt\n",
    "from statsmodels.tools.validation import array_like\n",
    "from scipy import stats"
   ]
  },
  {
   "cell_type": "markdown",
   "metadata": {
    "pycharm": {
     "name": "#%% md\n"
    }
   },
   "source": [
    "### AR Model\n",
    "Input：[y,h] y为时间序列长度，h为预测序列长度，下同"
   ]
  },
  {
   "cell_type": "code",
   "execution_count": null,
   "metadata": {
    "pycharm": {
     "is_executing": false
    }
   },
   "outputs": [],
   "source": [
    "def ForecastMethod_AR(y, h):\n",
    "    state = 0*np.ones(len(y))\n",
    "    v = 0*np.ones(len(y))\n",
    "    state[0] = y[0]\n",
    "\n",
    "    def logLikConc(myparam):\n",
    "        w, gamma, co = 1 - math.exp(-abs(myparam[0])), abs(myparam[1]), abs(myparam[2])\n",
    "        for t in range(1, len(y)):\n",
    "            v[t] = y[t]-state[t-1]\n",
    "            state[t] = co+w*state[t-1]+gamma*v[t]\n",
    "        temp = np.sum(np.power(v[1:len(y)], 2))\n",
    "        return temp\n",
    "\n",
    "    result = minimize(logLikConc, [2, .2, 1])\n",
    "    w, gamma, co = 1 - math.exp(-abs(result.x[0])), abs(result.x[1]), abs(result.x[2])\n",
    "    for t in range(1, len(y)):\n",
    "        v[t] = y[t] - state[t - 1]\n",
    "        state[t] = co + w * state[t - 1] + gamma * v[t]\n",
    "    Forec = np.array([state[len(y) - 1]])\n",
    "    for i in range(1, h):\n",
    "        Forec = np.append(Forec, co + w * Forec[i - 1])\n",
    "    return Forec\n"
   ]
  },
  {
   "cell_type": "markdown",
   "metadata": {
    "pycharm": {
     "name": "#%% md\n"
    }
   },
   "source": [
    "### AR+KF\n"
   ]
  },
  {
   "cell_type": "code",
   "execution_count": null,
   "metadata": {
    "pycharm": {
     "is_executing": false
    }
   },
   "outputs": [],
   "source": [
    "def ForecastMethod_ARkf(y, h):\n",
    "    n = len(y)\n",
    "    a, p, k, v = [np.ones(n) for _ in range(4)]\n",
    "    a[0], p[0] = y[0], 10000\n",
    "\n",
    "    def fu(mypa):\n",
    "        q, co, w = abs(mypa[0]), abs(mypa[1]), 1-math.exp(-abs(mypa[2]))\n",
    "        z = 1\n",
    "        likelihood = sigmae = 0\n",
    "        for t in range(1, n):\n",
    "            k[t] = (z * w * p[t - 1]) / (pow(z, 2) * p[t - 1] + 1)\n",
    "            p[t] = pow(w, 2) * p[t - 1] - w * z * k[t] * p[t - 1] + q\n",
    "            v[t] = y[t] - z * a[t - 1]\n",
    "            a[t] = co + w * a[t - 1] + k[t] * v[t]\n",
    "            sigmae += (pow(v[t], 2) / (pow(z, 2) * p[t - 1] + 1))\n",
    "            likelihood += .5 * math.log(2 * math.pi) + .5 + .5 * math.log(pow(z, 2) * p[t - 1] + 1)\n",
    "        return likelihood + .5 * n * math.log(sigmae / n)\n",
    "\n",
    "    results = minimize(fu, [.2, 1, 2])\n",
    "    v[0], z = 0, 1\n",
    "    q, co, w, sigmae = abs(results.x[0]), results.x[1], 1-math.exp(-abs(results.x[2])), 0\n",
    "    for t in range(1, n):\n",
    "        k[t] = (z * w * p[t - 1]) / (pow(z, 2) * p[t - 1] + 1)\n",
    "        p[t] = pow(w, 2) * p[t - 1] - w * z * k[t] * p[t - 1] + q\n",
    "        v[t] = y[t] - z * a[t - 1]\n",
    "        a[t] = co + w * a[t - 1] + k[t] * v[t]\n",
    "        sigmae = sigmae + pow(v[t], 2) / (pow(z, 2) * p[t - 1] + 1)\n",
    "    Forec = np.array([a[len(y)-1]])\n",
    "    for i in range(1, h):\n",
    "        Forec = np.append(Forec, co+w*Forec[i-1])\n",
    "    return Forec"
   ]
  },
  {
   "cell_type": "markdown",
   "metadata": {
    "pycharm": {
     "name": "#%% md\n"
    }
   },
   "source": [
    "### MA"
   ]
  },
  {
   "cell_type": "code",
   "execution_count": null,
   "metadata": {
    "pycharm": {
     "is_executing": false,
     "name": "#%%\n"
    }
   },
   "outputs": [],
   "source": [
    "def moving_average(phi, sigma, const, n):\n",
    "    k = len(phi)\n",
    "    xt = np.zeros(n)\n",
    "    a = np.random.normal(0, sigma, n)\n",
    "    for i in range(k):\n",
    "        xt[i] = a[i]\n",
    "    for i in range(1, n):\n",
    "        for t in range(k):\n",
    "            if t == 0:\n",
    "                temp = a[i]\n",
    "            else:\n",
    "                temp -= phi[t] * a[i - t]\n",
    "        xt[i] = temp + const\n",
    "    return xt"
   ]
  },
  {
   "cell_type": "markdown",
   "metadata": {
    "pycharm": {
     "name": "#%% md\n"
    }
   },
   "source": [
    "### Theta Model"
   ]
  },
  {
   "cell_type": "code",
   "execution_count": null,
   "metadata": {
    "pycharm": {
     "is_executing": false
    }
   },
   "outputs": [],
   "source": [
    "def ForecastMethod_Theta(y, h):\n",
    "    state = 0 * np.ones(len(y))\n",
    "    v = 0 * np.ones(len(y))\n",
    "    state[0] = y[0]\n",
    "\n",
    "    def logLikConc(myparam):\n",
    "        w, gamma, co = 1, abs(myparam[0]), abs(myparam[1])\n",
    "        for t in range(1, len(y)):\n",
    "            v[t] = y[t]-state[t-1]\n",
    "            state[t] = co+w*state[t-1]+gamma*v[t]\n",
    "        temp = np.sum(np.power(v[1:len(y)], 2))\n",
    "        return temp\n",
    "\n",
    "    result = minimize(logLikConc, [.3, 1])\n",
    "    w, gamma, co = 1, abs(result.x[0]), abs(result.x[1])\n",
    "    for t in range(1, len(y)):\n",
    "        v[t] = y[t] - state[t - 1]\n",
    "        state[t] = co + w * state[t - 1] + gamma * v[t]\n",
    "    Forec = np.array([state[len(y) - 1]])\n",
    "    for i in range(1, h):\n",
    "        Forec = np.append(Forec, co + w * Forec[i - 1])\n",
    "    return Forec\n"
   ]
  },
  {
   "cell_type": "markdown",
   "metadata": {
    "pycharm": {
     "name": "#%% md\n"
    }
   },
   "source": [
    "### Theta+KF"
   ]
  },
  {
   "cell_type": "code",
   "execution_count": null,
   "metadata": {
    "pycharm": {
     "is_executing": false,
     "name": "#%%\n"
    }
   },
   "outputs": [],
   "source": [
    "def ForecastMethod_Damped(y, h):\n",
    "    obs = len(y)\n",
    "    damped = 0*np.ones([obs, 2])\n",
    "    damped[0, 0] = y[0]\n",
    "    damped[0, 1] = 0\n",
    "    inn = 0*np.ones(obs)\n",
    "\n",
    "    def fmsoe(param):\n",
    "        k1, k2, k3 = abs(param[0]), abs(param[1]), abs(param[2])\n",
    "        for t in range(1, obs):\n",
    "            inn[t] = y[t]-damped[t-1, 0]-k3*damped[t-1, 1]\n",
    "            damped[t, 0] = damped[t-1, 0]+k3*damped[t-1, 1]+k1*inn[t]\n",
    "            damped[t, 1] = k3*damped[t-1, 1]+k2*inn[t]\n",
    "        temp = np.sum(np.power(inn, 2)/obs)\n",
    "        return temp\n",
    "\n",
    "    result = minimize(fmsoe, np.random.uniform(0, 1, 3))\n",
    "    k1, k2, k3 = abs(result.x[0]), abs(result.x[1]), abs(result.x[2])\n",
    "    if k3 > 1:\n",
    "        k3 = 1\n",
    "    for t in range(1, obs):\n",
    "        inn[t] = y[t] - damped[t - 1, 0] - k3 * damped[t - 1, 1]\n",
    "        damped[t, 0] = damped[t - 1, 0] + k3 * damped[t - 1, 1] + k1 * inn[t]\n",
    "        damped[t, 1] = k3 * damped[t - 1, 1] + k2 * inn[t]\n",
    "    Forecast = np.array([damped[obs-1, 0]+k3 * damped[obs-1, 1]])\n",
    "    for i in range(1, h):\n",
    "        Forecast = np.append(Forecast, Forecast[i - 1] + damped[obs-1, 1] * np.power(k3, i))\n",
    "    return Forecast\n",
    "\n"
   ]
  },
  {
   "cell_type": "markdown",
   "metadata": {
    "pycharm": {
     "name": "#%% md\n"
    }
   },
   "source": [
    "### Damped"
   ]
  },
  {
   "cell_type": "code",
   "execution_count": null,
   "metadata": {
    "pycharm": {
     "is_executing": false
    }
   },
   "outputs": [],
   "source": [
    "def ForecastMethod_Damped(y, h):\n",
    "    obs = len(y)\n",
    "    damped = 0*np.ones([obs, 2])\n",
    "    damped[0, 0] = y[0]\n",
    "    damped[0, 1] = 0\n",
    "    inn = 0*np.ones(obs)\n",
    "\n",
    "    def fmsoe(param):\n",
    "        k1, k2, k3 = abs(param[0]), abs(param[1]), abs(param[2])\n",
    "        for t in range(1, obs):\n",
    "            inn[t] = y[t]-damped[t-1, 0]-k3*damped[t-1, 1]\n",
    "            damped[t, 0] = damped[t-1, 0]+k3*damped[t-1, 1]+k1*inn[t]\n",
    "            damped[t, 1] = k3*damped[t-1, 1]+k2*inn[t]\n",
    "        temp = np.sum(np.power(inn, 2)/obs)\n",
    "        return temp\n",
    "\n",
    "    result = minimize(fmsoe, np.random.uniform(0, 1, 3))\n",
    "    k1, k2, k3 = abs(result.x[0]), abs(result.x[1]), abs(result.x[2])\n",
    "    if k3 > 1:\n",
    "        k3 = 1\n",
    "    for t in range(1, obs):\n",
    "        inn[t] = y[t] - damped[t - 1, 0] - k3 * damped[t - 1, 1]\n",
    "        damped[t, 0] = damped[t - 1, 0] + k3 * damped[t - 1, 1] + k1 * inn[t]\n",
    "        damped[t, 1] = k3 * damped[t - 1, 1] + k2 * inn[t]\n",
    "    Forecast = np.array([damped[obs-1, 0]+k3 * damped[obs-1, 1]])\n",
    "    for i in range(1, h):\n",
    "        Forecast = np.append(Forecast, Forecast[i - 1] + damped[obs-1, 1] * np.power(k3, i))\n",
    "    return Forecast\n"
   ]
  },
  {
   "cell_type": "markdown",
   "metadata": {
    "pycharm": {
     "name": "#%% md\n"
    }
   },
   "source": [
    "### KNN"
   ]
  },
  {
   "cell_type": "code",
   "execution_count": null,
   "metadata": {
    "pycharm": {
     "is_executing": true,
     "name": "#%%\n"
    }
   },
   "outputs": [],
   "source": [
    "def ForecastMethod_KNN(y, h):\n",
    "    n = len(y)\n",
    "    k = 3\n",
    "    data = np.ones([n-k, k+1])\n",
    "    for i in range(n-k):\n",
    "        data[i] = y[i:i+k+1]\n",
    "    np.random.shuffle(data)\n",
    "    xtrain = data[:, :k]\n",
    "    ytrain = data[:, k].astype('int')\n",
    "    ml = KNeighborsClassifier()\n",
    "    ml.fit(xtrain, ytrain)\n",
    "    Forec = np.ones(h)\n",
    "    Forec[0] = ml.predict(np.array(y[-k:]).reshape(1, -1))\n",
    "    for i in range(1, h):\n",
    "        if i < k:\n",
    "            Forec[i] = ml.predict(np.append(y[-k+i:], Forec[:i]).reshape(1, -1))\n",
    "        else:\n",
    "            Forec[i] = ml.predict(np.array(Forec[i-k:i]).reshape(1, -1))\n",
    "    return Forec"
   ]
  },
  {
   "cell_type": "markdown",
   "metadata": {},
   "source": [
    "### RT"
   ]
  },
  {
   "cell_type": "code",
   "execution_count": null,
   "metadata": {
    "pycharm": {
     "is_executing": true,
     "name": "#%%\n"
    }
   },
   "outputs": [],
   "source": [
    "def ForecastMethod_RT(y, h):\n",
    "    n = len(y)\n",
    "    k = 3\n",
    "    data = np.ones([n-k, k+1])\n",
    "    for i in range(n-k):\n",
    "        data[i] = y[i:i+k+1]\n",
    "    np.random.shuffle(data)\n",
    "    xtrain = data[:, :k]\n",
    "    ytrain = data[:, k]\n",
    "    ml = DecisionTreeRegressor()\n",
    "    ml.fit(xtrain, ytrain)\n",
    "    Forec = np.ones(h)\n",
    "    Forec[0] = ml.predict(np.array(y[-k:]).reshape(1, -1))\n",
    "    for i in range(1, h):\n",
    "        if i < k:\n",
    "            Forec[i] = ml.predict(np.append(y[-k+i:], Forec[:i]).reshape(1, -1))\n",
    "        else:\n",
    "            Forec[i] = ml.predict(np.array(Forec[i-k:i]).reshape(1, -1))\n",
    "    return Forec"
   ]
  },
  {
   "cell_type": "markdown",
   "metadata": {},
   "source": [
    "### RF"
   ]
  },
  {
   "cell_type": "code",
   "execution_count": null,
   "metadata": {
    "pycharm": {
     "is_executing": true,
     "name": "#%%\n"
    }
   },
   "outputs": [],
   "source": [
    "def ForecastMethod_RF(y, h):\n",
    "    n = len(y)\n",
    "    k = 3\n",
    "    data = np.ones([n-k, k+1])\n",
    "    for i in range(n-k):\n",
    "        data[i] = y[i:i+k+1]\n",
    "    np.random.shuffle(data)\n",
    "    xtrain = data[:, :k]\n",
    "    ytrain = data[:, k].astype('int')\n",
    "    ml = RandomForestClassifier(n_estimators=10)\n",
    "    ml.fit(xtrain, ytrain)\n",
    "    Forec = np.ones(h)\n",
    "    Forec[0] = ml.predict(np.array(y[-k:]).reshape(1, -1))\n",
    "    for i in range(1, h):\n",
    "        if i < k:\n",
    "            Forec[i] = ml.predict(np.append(y[-k+i:], Forec[:i]).reshape(1, -1))\n",
    "        else:\n",
    "            Forec[i] = ml.predict(np.array(Forec[i-k:i]).reshape(1, -1))\n",
    "    return Forec"
   ]
  },
  {
   "cell_type": "markdown",
   "metadata": {
    "pycharm": {
     "name": "#%% md\n"
    }
   },
   "source": [
    "### NN"
   ]
  },
  {
   "cell_type": "code",
   "execution_count": null,
   "metadata": {
    "pycharm": {
     "is_executing": true,
     "name": "#%%\n"
    }
   },
   "outputs": [],
   "source": [
    "def ForecastMethod_NN(y, h):\n",
    "    n = len(y)\n",
    "    k = 3\n",
    "    data = np.ones([n-k, k+1])\n",
    "    for i in range(n-k):\n",
    "        data[i] = y[i:i+k+1]\n",
    "    np.random.shuffle(data)\n",
    "    xtrain = data[:, :k]\n",
    "    ytrain = data[:, k].astype('int')\n",
    "    ml = MLPClassifier()\n",
    "    ml.fit(xtrain, ytrain)\n",
    "    Forec = np.ones(h)\n",
    "    Forec[0] = ml.predict(np.array(y[-k:]).reshape(1, -1))\n",
    "    for i in range(1, h):\n",
    "        if i < k:\n",
    "            Forec[i] = ml.predict(np.append(y[-k+i:], Forec[:i]).reshape(1, -1))\n",
    "        else:\n",
    "            Forec[i] = ml.predict(np.array(Forec[i-k:i]).reshape(1, -1))\n",
    "    return Forec\n"
   ]
  },
  {
   "cell_type": "markdown",
   "metadata": {
    "pycharm": {
     "name": "#%% md\n"
    }
   },
   "source": [
    "### State Space Model\n",
    "Input：[sigmae，sigmau, z, w, const]"
   ]
  },
  {
   "cell_type": "code",
   "execution_count": null,
   "metadata": {
    "pycharm": {
     "is_executing": true,
     "name": "#%%\n"
    }
   },
   "outputs": [],
   "source": [
    "def StateSpaceGen(param):\n",
    "    sigmae, sigmau, z, w, const = param[0], param[1], param[2], param[3], param[4]\n",
    "    n = 100\n",
    "    e = np.random.normal(0, sigmae, n)\n",
    "    u = np.random.normal(0, sigmau, n)\n",
    "    y = np.ones(n)\n",
    "    alpha = np.ones(n)\n",
    "    y[0], alpha[0] = e[0], u[0]\n",
    "    for t in range(1, n):\n",
    "        y[t] = z*alpha[t-1]+e[t]\n",
    "        alpha[t] = const+w*alpha[t-1]+u[t]\n",
    "    return np.array([y, alpha])"
   ]
  },
  {
   "cell_type": "markdown",
   "metadata": {},
   "source": [
    "### Kalman Filter\n",
    "Input：[sigmae，sigmau, z, w, const]"
   ]
  },
  {
   "cell_type": "code",
   "execution_count": null,
   "metadata": {
    "pycharm": {
     "is_executing": true,
     "name": "#%%\n"
    }
   },
   "outputs": [],
   "source": [
    "def KF(param):\n",
    "    sigmae, sigmau, z, w, const = param[0], param[1], param[2], param[3], param[4]\n",
    "    y = param[5]\n",
    "    n = len(y)\n",
    "    a, p, k, v = [np.ones(n) for _ in range(4)]\n",
    "    a[0], p[0] = y[0], 10000\n",
    "    if w < 1:\n",
    "        a[0] = 0\n",
    "        p[0] = sigmau/(1-pow(w, 2))\n",
    "    for t in range(1, n):\n",
    "        k[t] = (z*w*p[t-1])/(pow(z, 2)*p[t-1]+sigmae)\n",
    "        p[t] = pow(w, 2)*p[t-1]-w*z*k[t]*p[t-1]+sigmau\n",
    "        v[t] = y[t]-z*a[t-1]\n",
    "        a[t] = const+w*a[t-1]+k[t]*v[t]\n",
    "    return np.array([a, v, k, p])\n",
    "\n"
   ]
  },
  {
   "cell_type": "markdown",
   "metadata": {
    "pycharm": {
     "name": "#%% md\n"
    }
   },
   "source": [
    "#### Example"
   ]
  },
  {
   "cell_type": "code",
   "execution_count": null,
   "metadata": {
    "pycharm": {
     "is_executing": true,
     "name": "#%%\n"
    }
   },
   "outputs": [],
   "source": [
    "n = 100\n",
    "np.random.seed(222)\n",
    "time = np.linspace(0, n-1, n)\n",
    "y1 = StateSpaceGen([.5, .1, 1, .8, .3])\n",
    "y2 = KF([.5, .1, 1, .8, .3, y1[0]])\n",
    "plt.figure(figsize=[10, 5])\n",
    "plt.plot(time, y1[0], time, y1[1], '--', time, y2[0], '--')\n",
    "plt.legend(['y', 'alpha', 'a'])\n",
    "plt.ylabel('combine(y,alpha,a)')\n",
    "plt.title('y,alpha,a')\n",
    "plt.show()\n"
   ]
  },
  {
   "cell_type": "markdown",
   "metadata": {
    "pycharm": {
     "name": "#%% md\n"
    }
   },
   "source": [
    "## TSA Function"
   ]
  },
  {
   "cell_type": "code",
   "execution_count": null,
   "metadata": {
    "pycharm": {
     "is_executing": true,
     "name": "#%%\n"
    }
   },
   "outputs": [],
   "source": [
    "# 假设参数\n",
    "n = 100\n",
    "const = 0.2\n",
    "y = np.empty(n)\n",
    "a, p, k, v = [np.ones(n) for _ in range(4)]\n",
    "z, a[0], p[0] = 1, 0, 1\n",
    "\n",
    "s = 10\n",
    "state = 0*np.ones(n)\n",
    "e = 0*np.ones(n)\n",
    "state[:s] = y[:s]"
   ]
  },
  {
   "cell_type": "markdown",
   "metadata": {
    "pycharm": {
     "name": "#%% md\n"
    }
   },
   "source": [
    "### Standard Kalman Filter\n",
    "Input：[w，q，const]"
   ]
  },
  {
   "cell_type": "code",
   "execution_count": null,
   "metadata": {
    "pycharm": {
     "is_executing": true,
     "name": "#%%\n"
    }
   },
   "outputs": [],
   "source": [
    "def fu(mypa):\n",
    "    w, q, co = abs(mypa[0]), abs(mypa[1]), abs(mypa[2])\n",
    "    likelihood, sigmae = 0, 0\n",
    "    for t in range(1, n):\n",
    "        k[t] = (z*w*p[t-1])/(pow(z, 2)*p[t-1]+1)\n",
    "        p[t] = pow(w, 2)*p[t-1]-w*z*k[t]*p[t-1] + q\n",
    "        v[t] = y[t]-z*a[t-1]\n",
    "        a[t] = const+w*a[t-1]+k[t]*v[t]\n",
    "        sigmae += (pow(v[t], 2)/(pow(z, 2)*p[t-1]+1))\n",
    "        likelihood += .5*math.log(2*math.pi)+.5+.5*math.log(pow(z, 2)*p[t-1]+1)\n",
    "    return likelihood+.5*n*math.log(sigmae/n)"
   ]
  },
  {
   "cell_type": "markdown",
   "metadata": {},
   "source": [
    "### Likelihood\n",
    "Input：[w，sigmae，sigmau, const]"
   ]
  },
  {
   "cell_type": "code",
   "execution_count": null,
   "metadata": {
    "pycharm": {
     "is_executing": true,
     "name": "#%%\n"
    }
   },
   "outputs": [],
   "source": [
    "def Likelihood(mypa):\n",
    "    w, se, su, co = abs(mypa[0]), abs(mypa[1]), abs(mypa[2]), abs(mypa[3])\n",
    "    z, likelihood = 1, 0\n",
    "    for t in range(1, n):\n",
    "        k[t] = (z*w*p[t-1])/(pow(z, 2)*p[t-1]+se)\n",
    "        p[t] = pow(w, 2)*p[t-1]-w*z*k[t]*p[t-1]+su\n",
    "        v[t] = y[t]-z*a[t-1]\n",
    "        a[t] = co+w*a[t-1]+k[t]*v[t]\n",
    "        likelihood += .5*math.log(2*math.pi)+.5*math.log(pow(z, 2)*p[t-1]+se)+.5*(pow(v[t], 2)/(pow(z, 2)*p[t-1]+se))\n",
    "    return likelihood\n"
   ]
  },
  {
   "cell_type": "markdown",
   "metadata": {},
   "source": [
    "### LogLikelihood\n",
    "Input：[w，q]"
   ]
  },
  {
   "cell_type": "code",
   "execution_count": null,
   "metadata": {
    "pycharm": {
     "is_executing": true
    }
   },
   "outputs": [],
   "source": [
    "def fu(mypa):\n",
    "    w, q = abs(mypa[0]), abs(mypa[1])\n",
    "    z, likelihood, sigmae = 1, 0, 0\n",
    "    for t in range(1, n):\n",
    "        k[t] = (z*w*p[t-1])/(pow(z, 2)*p[t-1]+1)\n",
    "        p[t] = pow(w, 2)*p[t-1]-w*z*k[t]*p[t-1]+ q\n",
    "        v[t] = y[t]-z*a[t-1]\n",
    "        a[t] = w*a[t-1]+k[t]*v[t]\n",
    "        sigmae += (pow(v[t], 2)/(pow(z, 2)*p[t-1]+1))\n",
    "        likelihood += .5*math.log(2*math.pi)+.5+.5*math.log(pow(z, 2)*p[t-1]+1)\n",
    "    return likelihood+.5*n*math.log(sigmae/n)\n"
   ]
  },
  {
   "cell_type": "markdown",
   "metadata": {
    "pycharm": {
     "name": "#%% md\n"
    }
   },
   "source": [
    "### Likelihood Concentrated"
   ]
  },
  {
   "cell_type": "code",
   "execution_count": null,
   "metadata": {
    "pycharm": {
     "is_executing": true,
     "name": "#%%\n"
    }
   },
   "outputs": [],
   "source": [
    "def logLikConc(myparam):\n",
    "    gamma = abs(myparam)\n",
    "    for t in range(s, n):\n",
    "        e[t] = y[t]-state[t-s]\n",
    "        state[t] = state[t-s]+gamma*e[t]\n",
    "    temp = np.sum(np.power(e[1:], 2))/(n-1)\n",
    "    return temp"
   ]
  },
  {
   "cell_type": "markdown",
   "metadata": {},
   "source": [
    "### Autocorrelation"
   ]
  },
  {
   "cell_type": "code",
   "execution_count": null,
   "metadata": {
    "pycharm": {
     "is_executing": true,
     "name": "#%%\n"
    }
   },
   "outputs": [],
   "source": [
    "def autocorrelation_function(k, xt):\n",
    "    mean = np.mean(xt)\n",
    "    var = np.var(xt)\n",
    "    temp = 0\n",
    "    for i in range(k, len(xt)):\n",
    "        temp += (xt[i] - mean)*(xt[i-k] - mean)\n",
    "    r = temp/(len(xt)*var)\n",
    "    return r"
   ]
  },
  {
   "cell_type": "markdown",
   "metadata": {},
   "source": [
    "### Single Exponential Smoothing"
   ]
  },
  {
   "cell_type": "code",
   "execution_count": null,
   "metadata": {
    "pycharm": {
     "is_executing": true,
     "name": "#%%\n"
    }
   },
   "outputs": [],
   "source": [
    "def single_exponential_smoothing(xt, alpha):\n",
    "    zt = np.ones(len(xt))\n",
    "    zt[0] = xt[0]\n",
    "    for i in range(1, len(xt)):\n",
    "        zt[i] = alpha*xt[i]+(1-alpha)*xt[i-1]\n",
    "    return zt"
   ]
  },
  {
   "cell_type": "markdown",
   "metadata": {},
   "source": [
    "### Double Exponential Smoothing"
   ]
  },
  {
   "cell_type": "code",
   "execution_count": null,
   "metadata": {
    "pycharm": {
     "is_executing": true,
     "name": "#%%\n"
    }
   },
   "outputs": [],
   "source": [
    "def double_exponential_smoothing(xt, gamma):\n",
    "    zt = np.ones(len(xt))\n",
    "    tao = np.ones(len(xt))\n",
    "    zt[0], tao[0] = 0, 0\n",
    "    zt[1] = gamma*xt[1]+(1-gamma)*zt[0]\n",
    "    tao[1] = gamma*(zt[1]-zt[0])+(1-gamma)*tao[0]\n",
    "    for i in range(2, len(xt)):\n",
    "        zt[i] = gamma*xt[i]+(1-gamma)*zt[i-1]\n",
    "        tao[i] = gamma * (zt[i] - zt[i-1]) + (1 - gamma) * tao[i-1]\n",
    "    y = zt + tao\n",
    "    return y"
   ]
  },
  {
   "cell_type": "markdown",
   "metadata": {},
   "source": [
    "### BDS Test"
   ]
  },
  {
   "cell_type": "code",
   "execution_count": null,
   "metadata": {
    "pycharm": {
     "is_executing": true,
     "name": "#%%\n"
    }
   },
   "outputs": [],
   "source": [
    "def distance_indicators(x, epsilon=None, distance=1.5):\n",
    "    x = array_like(x, 'x')\n",
    "\n",
    "    if epsilon is not None and epsilon <= 0:\n",
    "        raise ValueError(\"Threshold distance must be positive if specified.\"\n",
    "                         \" Got epsilon of %f\" % epsilon)\n",
    "    if distance <= 0:\n",
    "        raise ValueError(\"Threshold distance must be positive.\"\n",
    "                         \" Got distance multiplier %f\" % distance)\n",
    "    if epsilon is None:\n",
    "        epsilon = distance * x.std(ddof=1)\n",
    "\n",
    "    return np.abs(x[:, None] - x) < epsilon\n",
    "\n",
    "\n",
    "def correlation_sum(indicators, embedding_dim):\n",
    "    if not indicators.ndim == 2:\n",
    "        raise ValueError('Indicators must be a matrix')\n",
    "    if not indicators.shape[0] == indicators.shape[1]:\n",
    "        raise ValueError('Indicator matrix must be symmetric (square)')\n",
    "\n",
    "    if embedding_dim == 1:\n",
    "        indicators_joint = indicators\n",
    "    else:\n",
    "        corrsum, indicators = correlation_sum(indicators, embedding_dim - 1)\n",
    "        indicators_joint = indicators[1:, 1:]*indicators[:-1, :-1]\n",
    "\n",
    "    nobs = len(indicators_joint)\n",
    "    corrsum = np.mean(indicators_joint[np.triu_indices(nobs, 1)])\n",
    "    return corrsum, indicators_joint\n",
    "\n",
    "\n",
    "def correlation_sums(indicators, max_dim):\n",
    "    corrsums = np.zeros((1, max_dim))\n",
    "\n",
    "    corrsums[0, 0], indicators = correlation_sum(indicators, 1)\n",
    "    for i in range(1, max_dim):\n",
    "        corrsums[0, i], indicators = correlation_sum(indicators, 2)\n",
    "\n",
    "    return corrsums\n",
    "\n",
    "def _var(indicators, max_dim):\n",
    "   \n",
    "    nobs = len(indicators)\n",
    "    corrsum_1dim, _ = correlation_sum(indicators, 1)\n",
    "    k = ((indicators.sum(1)**2).sum() - 3*indicators.sum() +\n",
    "         2*nobs) / (nobs * (nobs - 1) * (nobs - 2))\n",
    "\n",
    "    variances = np.zeros((1, max_dim - 1))\n",
    "\n",
    "    for embedding_dim in range(2, max_dim + 1):\n",
    "        tmp = 0\n",
    "        for j in range(1, embedding_dim):\n",
    "            tmp += (k**(embedding_dim - j))*(corrsum_1dim**(2 * j))\n",
    "        variances[0, embedding_dim-2] = 4 * (\n",
    "            k**embedding_dim +\n",
    "            2 * tmp +\n",
    "            ((embedding_dim - 1)**2) * (corrsum_1dim**(2 * embedding_dim)) -\n",
    "            (embedding_dim**2) * k * (corrsum_1dim**(2 * embedding_dim - 2)))\n",
    "\n",
    "    return variances, k\n",
    "\n",
    "def bds(x, max_dim=2, epsilon=None, distance=1.5):\n",
    "    x = array_like(x, 'x', ndim=1)\n",
    "    nobs_full = len(x)\n",
    "\n",
    "    if max_dim < 2 or max_dim >= nobs_full:\n",
    "        raise ValueError(\"Maximum embedding dimension must be in the range\"\n",
    "                         \" [2,len(x)-1]. Got %d.\" % max_dim)\n",
    "\n",
    "    indicators = distance_indicators(x, epsilon, distance)\n",
    "    corrsum_mdims = correlation_sums(indicators, max_dim)\n",
    "\n",
    "    variances, k = _var(indicators, max_dim)\n",
    "    stddevs = np.sqrt(variances)\n",
    "\n",
    "    bds_stats = np.zeros((1, max_dim - 1))\n",
    "    pvalues = np.zeros((1, max_dim - 1))\n",
    "    for embedding_dim in range(2, max_dim+1):\n",
    "        ninitial = (embedding_dim - 1)\n",
    "        nobs = nobs_full - ninitial\n",
    "\n",
    "        corrsum_1dim, _ = correlation_sum(indicators[ninitial:, ninitial:], 1)\n",
    "        corrsum_mdim = corrsum_mdims[0, embedding_dim - 1]\n",
    "\n",
    "        effect = corrsum_mdim - (corrsum_1dim**embedding_dim)\n",
    "        sd = stddevs[0, embedding_dim - 2]\n",
    "\n",
    "        bds_stats[0, embedding_dim - 2] = np.sqrt(nobs) * effect / sd\n",
    "\n",
    "        pvalue = 2*stats.norm.sf(np.abs(bds_stats[0, embedding_dim - 2]))\n",
    "        pvalues[0, embedding_dim - 2] = pvalue\n",
    "\n",
    "    return np.squeeze(bds_stats), np.squeeze(pvalues)\n"
   ]
  },
  {
   "cell_type": "markdown",
   "metadata": {},
   "source": [
    "### Random Walk"
   ]
  },
  {
   "cell_type": "code",
   "execution_count": null,
   "metadata": {
    "pycharm": {
     "is_executing": true,
     "name": "#%%\n"
    }
   },
   "outputs": [],
   "source": [
    "def random_walk(x0, sigma, const, n):\n",
    "    a = np.random.normal(0, sigma, n)\n",
    "    xt = np.zeros(n)\n",
    "    xt[0] = x0\n",
    "    for i in range(1, n):\n",
    "        xt[i] = xt[i-1] + a[i] + const\n",
    "    return xt"
   ]
  },
  {
   "cell_type": "markdown",
   "metadata": {},
   "source": [
    "### Pearson correlation coefficient"
   ]
  },
  {
   "cell_type": "code",
   "execution_count": null,
   "metadata": {
    "pycharm": {
     "is_executing": true,
     "name": "#%%\n"
    }
   },
   "outputs": [],
   "source": [
    "def multipl(a, b):\n",
    "    sumofab = 0.0\n",
    "    for i in range(len(a)):\n",
    "        temp = a[i] * b[i]\n",
    "        sumofab += temp\n",
    "    return sumofab\n",
    "\n",
    "\n",
    "def corrcoef(x, y):\n",
    "    n = len(x)\n",
    "    sum1 = sum(x)\n",
    "    sum2 = sum(y)\n",
    "    sumofxy = multipl(x, y)\n",
    "    sumofx2 = sum([pow(i, 2) for i in x])\n",
    "    sumofy2 = sum([pow(j, 2) for j in y])\n",
    "    num = sumofxy - (float(sum1) * float(sum2) / n)\n",
    "    den = np.sqrt((sumofx2 - float(sum1 ** 2) / n) * (sumofy2 - float(sum2 ** 2) / n))\n",
    "    return num / den"
   ]
  },
  {
   "cell_type": "markdown",
   "metadata": {},
   "source": [
    "### AutoRegressions"
   ]
  },
  {
   "cell_type": "code",
   "execution_count": null,
   "metadata": {
    "pycharm": {
     "is_executing": true,
     "name": "#%%\n"
    }
   },
   "outputs": [],
   "source": [
    "def autoregressive(phi, sigma, x0, const, n):\n",
    "    k = len(phi)\n",
    "    xt = np.zeros(n)\n",
    "    a = np.random.normal(0, sigma, n)\n",
    "    for i in range(k):\n",
    "        xt[i] = x0[i]\n",
    "    for i in range(k, n):\n",
    "        temp = 0\n",
    "        for t in range(k):\n",
    "            temp += phi[t] * xt[i-t-1]\n",
    "        xt[i] = temp + a[i] + const\n",
    "    return xt"
   ]
  }
 ],
 "metadata": {
  "kernelspec": {
   "display_name": "Python 3",
   "language": "python",
   "name": "python3"
  },
  "language_info": {
   "codemirror_mode": {
    "name": "ipython",
    "version": 3
   },
   "file_extension": ".py",
   "mimetype": "text/x-python",
   "name": "python",
   "nbconvert_exporter": "python",
   "pygments_lexer": "ipython3",
   "version": "3.7.3"
  },
  "pycharm": {
   "stem_cell": {
    "cell_type": "raw",
    "metadata": {
     "collapsed": false
    },
    "source": []
   }
  }
 },
 "nbformat": 4,
 "nbformat_minor": 1
}
