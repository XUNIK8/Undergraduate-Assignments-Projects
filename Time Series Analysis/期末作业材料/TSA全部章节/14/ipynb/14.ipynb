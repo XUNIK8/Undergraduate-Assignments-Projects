{
 "cells": [
  {
   "cell_type": "markdown",
   "metadata": {
    "collapsed": true,
    "pycharm": {
     "is_executing": false
    }
   },
   "source": [
    "## 第十四章 误差修正、伪回归和协整\n",
    "\n",
    "### 表14.1 线性回归两个独立的随机游走的统计信息\n",
    "\n",
    "Granger和Newbold二人创立了以下时间序列信息生成过程（DGP）：\n",
    "\n",
    "$$\n",
    "y_t=\\phi y_{t-1}+u_t \\qquad u_t \\sim i.i.d.(0, \\sigma^2_u) \\\\\n",
    "x_t=\\phi^*x_{t-1}+v_t \\qquad v_t \\sim i.i.d.(0, \\sigma^2_v)\n",
    "$$\n",
    "\n",
    "则$y_t$和$x_t$是不相关的一阶自回归过程。 由于$x_t$既不会影响$y_t$，也不会受到$y_t$的影响，因此应该希望回归模型中的系数$\\beta_1$：\n",
    "\n",
    "$$\n",
    "y_t=\\beta_0+\\beta_1x_t+\\epsilon_t\n",
    "$$\n",
    "\n",
    "会收敛到零，反映出这两个系列之间没有任何关系，正如该回归的$R^2$统计量一样。\n",
    "\n",
    "当$\\phi=\\phi^*=1$时，两个序列为随机游走序列。这时我们对两序列的统计量t和$R^2$进行计算。\n",
    "\n",
    "$$\n",
    "t = \\frac{|\\hat{\\beta}_1|}{se(\\hat{\\beta}_1)}\n",
    "$$\n",
    "\n",
    "有关生成随机游走的代码如下："
   ]
  },
  {
   "cell_type": "code",
   "execution_count": 1,
   "metadata": {},
   "outputs": [],
   "source": [
    "import numpy as np\n",
    "\n",
    "\n",
    "def random_walk(x0, sigma, const, n):\n",
    "    a = np.random.normal(0, sigma, n)\n",
    "    xt = np.zeros(n)\n",
    "    xt[0] = x0\n",
    "    for i in range(1, n):\n",
    "        xt[i] = xt[i-1] + a[i] + const\n",
    "    return xt"
   ]
  },
  {
   "cell_type": "markdown",
   "metadata": {},
   "source": [
    "接下来对统计量进行计算，累计生成1000次，每次生成两个长度为50的随机游走序列，计算统计量区间出现的频次。\n",
    "\n",
    "首先设置生成随机序列的参数："
   ]
  },
  {
   "cell_type": "code",
   "execution_count": 2,
   "metadata": {},
   "outputs": [],
   "source": [
    "import pandas as pd\n",
    "import matplotlib.dates as mdate\n",
    "import matplotlib.pyplot as plt\n",
    "import scipy.stats as st\n",
    "import warnings\n",
    "\n",
    "\n",
    "warnings.filterwarnings('ignore')\n",
    "np.random.seed(3)\n",
    "nth = 1000\n",
    "n = 50\n",
    "count1 = count2 = 0\n",
    "tlist, rlist, tcolumn, rcolumn = [[] for _ in range(4)]\n",
    "tcal, rcal = [np.zeros(10) for _ in range(2)]\n",
    "col = np.full(10, '')"
   ]
  },
  {
   "cell_type": "markdown",
   "metadata": {},
   "source": [
    "循环生成1000次，并将每次的结果保存到列表中："
   ]
  },
  {
   "cell_type": "code",
   "execution_count": 3,
   "metadata": {},
   "outputs": [],
   "source": [
    "for i in range(nth):\n",
    "    x = random_walk(0, 1, 0, n)\n",
    "    y = random_walk(0, 1, 0, n)\n",
    "    slope, intercept, r_value, p_value, std_err = st.linregress(x, y)\n",
    "    temp1 = np.sum(np.power(y-slope*x-intercept, 2))/(n-2)\n",
    "    temp2 = np.sum(np.power(x - np.mean(x), 2))\n",
    "    se = np.sqrt(temp1/temp2)\n",
    "    t = np.abs(slope)/se\n",
    "    tlist.append(int(t/2))\n",
    "    rlist.append(int(np.power(r_value, 2)*10))"
   ]
  },
  {
   "cell_type": "markdown",
   "metadata": {},
   "source": [
    "分别对每个区间的频数进行统计："
   ]
  },
  {
   "cell_type": "code",
   "execution_count": 4,
   "metadata": {},
   "outputs": [],
   "source": [
    "for j in range(9):\n",
    "    tcal[j] = tlist.count(j)\n",
    "    rcal[j] = rlist.count(j)\n",
    "    tcolumn.append(str(j * 2) + '-' + str(2 * (j + 1)))\n",
    "    rcolumn.append(str(j / 10) + '-' + str((j + 1)/10))\n",
    "for j in range(len(tlist)):\n",
    "    if tlist[j] > 8:\n",
    "        count1 += 1\n",
    "    if rlist[j] > 8:\n",
    "        count2 += 1\n",
    "tcal[9], rcal[9] = count1, count2\n",
    "tcolumn.append('>18')\n",
    "rcolumn.append('0.9-1.0')"
   ]
  },
  {
   "cell_type": "markdown",
   "metadata": {},
   "source": [
    "利用pandas将每个区间的结果打印出来："
   ]
  },
  {
   "cell_type": "code",
   "execution_count": 5,
   "metadata": {},
   "outputs": [
    {
     "name": "stdout",
     "output_type": "stream",
     "text": [
      "                                                                              \\\n",
      "t-Statistics       0-2      2-4      4-6      6-8     8-10    10-12    12-14   \n",
      "                 339.0    250.0    180.0    114.0     56.0     28.0     19.0   \n",
      "R2 Statistics  0.0-0.1  0.1-0.2  0.2-0.3  0.3-0.4  0.4-0.5  0.5-0.6  0.6-0.7   \n",
      "                 382.0    146.0    125.0     92.0     86.0     64.0     53.0   \n",
      "\n",
      "                                          \n",
      "t-Statistics     14-16    16-18      >18  \n",
      "                   3.0      7.0      4.0  \n",
      "R2 Statistics  0.7-0.8  0.8-0.9  0.9-1.0  \n",
      "                  37.0     14.0      1.0  \n"
     ]
    }
   ],
   "source": [
    "df = np.append(np.append(tcolumn, tcal), np.append(rcolumn, rcal)).reshape([4, 10])\n",
    "df = pd.DataFrame(df, index=['t-Statistics', '', 'R2 Statistics', ''], columns=col)\n",
    "print(df)"
   ]
  },
  {
   "cell_type": "markdown",
   "metadata": {},
   "source": [
    "### 图14.1 两个 I(0) 序列的相关系数的频数统计\n",
    "\n",
    "u和v为白噪音序列，遵循标准正态分布。\n",
    "\n",
    "现在要计算两个序列的皮尔逊相关系数，具体的实现代码如下：\n"
   ]
  },
  {
   "cell_type": "code",
   "execution_count": 6,
   "metadata": {},
   "outputs": [],
   "source": [
    "def multipl(a, b):\n",
    "    sumofab = 0.0\n",
    "    for i in range(len(a)):\n",
    "        temp = a[i] * b[i]\n",
    "        sumofab += temp\n",
    "    return sumofab\n",
    "\n",
    "\n",
    "def corrcoef(x, y):\n",
    "    n = len(x)\n",
    "    sum1 = sum(x)\n",
    "    sum2 = sum(y)\n",
    "    sumofxy = multipl(x, y)\n",
    "    sumofx2 = sum([pow(i, 2) for i in x])\n",
    "    sumofy2 = sum([pow(j, 2) for j in y])\n",
    "    num = sumofxy - (float(sum1) * float(sum2) / n)\n",
    "    den = np.sqrt((sumofx2 - float(sum1 ** 2) / n) * (sumofy2 - float(sum2 ** 2) / n))\n",
    "    return num / den"
   ]
  },
  {
   "cell_type": "markdown",
   "metadata": {},
   "source": [
    "现在将两个序列生成1000次，每个序列的长度为100。统计皮尔逊相关系数的出现频次。\n",
    "\n",
    "首先生成u、v两个序列："
   ]
  },
  {
   "cell_type": "code",
   "execution_count": 7,
   "metadata": {},
   "outputs": [],
   "source": [
    "np.random.seed(2)\n",
    "n = 1000\n",
    "t = 100\n",
    "plist = []\n",
    "for i in range(n):\n",
    "    u = np.random.normal(0, 1, t)\n",
    "    v = np.random.normal(0, 1, t)\n",
    "    s = corrcoef(u, v)\n",
    "    plist.append(s)"
   ]
  },
  {
   "cell_type": "markdown",
   "metadata": {},
   "source": [
    "画出对应的频数图"
   ]
  },
  {
   "cell_type": "code",
   "execution_count": 8,
   "metadata": {},
   "outputs": [
    {
     "data": {
      "image/png": "[encoded data removed]",
      "text/plain": [
       "<Figure size 432x288 with 1 Axes>"
      ]
     },
     "metadata": {
      "needs_background": "light"
     },
     "output_type": "display_data"
    }
   ],
   "source": [
    "plt.figure()\n",
    "plt.hist(plist, bins=32, facecolor=\"w\", edgecolor=\"black\")\n",
    "plt.title('Frequency distribution of the correlation coefficient between I(0) series.')\n",
    "plt.show()"
   ]
  },
  {
   "cell_type": "markdown",
   "metadata": {},
   "source": [
    "### 图14.2 两个 I(1) 序列的相关系数的频数统计\n",
    "\n",
    "x,y为两个随机游走序列，现在将两个序列生成1000次，每个序列的长度为100。统计皮尔逊相关系数的出现频次。\n",
    "\n",
    "首先生成x、y两个序列："
   ]
  },
  {
   "cell_type": "code",
   "execution_count": 9,
   "metadata": {},
   "outputs": [],
   "source": [
    "np.random.seed(2)\n",
    "n = 1000\n",
    "t = 100\n",
    "plist = []\n",
    "for i in range(n):\n",
    "    x = random_walk(0, 1, 0, t)\n",
    "    y = random_walk(0, 1, 0, t)\n",
    "    s = corrcoef(x, y)\n",
    "    plist.append(s)"
   ]
  },
  {
   "cell_type": "markdown",
   "metadata": {},
   "source": [
    "画出对应的频数图"
   ]
  },
  {
   "cell_type": "code",
   "execution_count": 10,
   "metadata": {},
   "outputs": [
    {
     "data": {
      "image/png": "[encoded data removed]",
      "text/plain": [
       "<Figure size 432x288 with 1 Axes>"
      ]
     },
     "metadata": {
      "needs_background": "light"
     },
     "output_type": "display_data"
    }
   ],
   "source": [
    "plt.figure()\n",
    "plt.hist(plist, bins=40, facecolor=\"w\", edgecolor=\"black\")\n",
    "plt.title('Frequency distribution of the correlation coefficient between I(1) series.')\n",
    "plt.show()"
   ]
  },
  {
   "cell_type": "markdown",
   "metadata": {},
   "source": [
    "### 图14.3 两个 I(2) 序列的相关系数的频数统计\n",
    "\n",
    "z、w为两个AR(2)，现在将两个序列生成1000次，每个序列的长度为100。统计皮尔逊相关系数的出现频次。\n",
    "\n",
    "首先代码实现AR函数："
   ]
  },
  {
   "cell_type": "code",
   "execution_count": 11,
   "metadata": {},
   "outputs": [],
   "source": [
    "def autoregressive(phi, sigma, x0, const, n):\n",
    "    k = len(phi)\n",
    "    xt = np.zeros(n)\n",
    "    a = np.random.normal(0, sigma, n)\n",
    "    for i in range(k):\n",
    "        xt[i] = x0[i]\n",
    "    for i in range(k, n):\n",
    "        temp = 0\n",
    "        for t in range(k):\n",
    "            temp += phi[t] * xt[i-t-1]\n",
    "        xt[i] = temp + a[i] + const\n",
    "    return xt"
   ]
  },
  {
   "cell_type": "markdown",
   "metadata": {},
   "source": [
    "生成z、w两个序列："
   ]
  },
  {
   "cell_type": "code",
   "execution_count": 12,
   "metadata": {},
   "outputs": [],
   "source": [
    "np.random.seed(2)\n",
    "n = 1000\n",
    "t = 100\n",
    "plist = []\n",
    "for i in range(n):\n",
    "    z = autoregressive([2, -1], 1, [0, 0], 0, t)\n",
    "    w = autoregressive([2, -1], 1, [0, 0], 0, t)\n",
    "    s = corrcoef(z, w)\n",
    "    plist.append(s)"
   ]
  },
  {
   "cell_type": "markdown",
   "metadata": {},
   "source": [
    "画出对应的频数图"
   ]
  },
  {
   "cell_type": "code",
   "execution_count": 13,
   "metadata": {},
   "outputs": [
    {
     "data": {
      "image/png": "[encoded data removed]",
      "text/plain": [
       "<Figure size 432x288 with 1 Axes>"
      ]
     },
     "metadata": {
      "needs_background": "light"
     },
     "output_type": "display_data"
    }
   ],
   "source": [
    "plt.figure()\n",
    "plt.hist(plist, bins=40, facecolor=\"w\", edgecolor=\"black\")\n",
    "plt.title('Frequency distribution of the correlation coefficient between I(2) series.')\n",
    "plt.show()"
   ]
  },
  {
   "cell_type": "markdown",
   "metadata": {},
   "source": [
    "### 图14.3 I(1)和I(2) 序列的相关系数的频数统计\n",
    "\n",
    "x为随机游走序列，z为AR(2)，现在将两个序列生成1000次，每个序列的长度为100。统计皮尔逊相关系数的出现频次。\n",
    "\n",
    "首先生成z、x两个序列："
   ]
  },
  {
   "cell_type": "code",
   "execution_count": 14,
   "metadata": {},
   "outputs": [],
   "source": [
    "np.random.seed(2)\n",
    "n = 1000\n",
    "t = 100\n",
    "plist = []\n",
    "for i in range(n):\n",
    "    z = autoregressive([2, -1], 1, [0, 0], 0, t)\n",
    "    x = random_walk(0, 1, 0, t)\n",
    "    s = corrcoef(z, x)\n",
    "    plist.append(s)"
   ]
  },
  {
   "cell_type": "markdown",
   "metadata": {},
   "source": [
    "画出对应的频数图"
   ]
  },
  {
   "cell_type": "code",
   "execution_count": 15,
   "metadata": {},
   "outputs": [
    {
     "data": {
      "image/png": "[encoded data removed]",
      "text/plain": [
       "<Figure size 432x288 with 1 Axes>"
      ]
     },
     "metadata": {
      "needs_background": "light"
     },
     "output_type": "display_data"
    }
   ],
   "source": [
    "plt.figure()\n",
    "plt.hist(plist, bins=40, facecolor=\"w\", edgecolor=\"black\")\n",
    "plt.title('Frequency distribution of the correlation coefficient between I(1) and I(2)')\n",
    "plt.show()"
   ]
  },
  {
   "cell_type": "markdown",
   "metadata": {},
   "source": [
    "### 图14.3 I(0)和I(1) 序列的相关系数的频数统计\n",
    "\n",
    "y为随机游走序列，v为白噪音，现在将两个序列生成1000次，每个序列的长度为100。统计皮尔逊相关系数的出现频次。\n",
    "\n",
    "首先生成y、v两个序列："
   ]
  },
  {
   "cell_type": "code",
   "execution_count": 16,
   "metadata": {},
   "outputs": [],
   "source": [
    "np.random.seed(2)\n",
    "n = 1000\n",
    "t = 100\n",
    "plist = []\n",
    "for i in range(n):\n",
    "    y = random_walk(0, 1, 0, t)\n",
    "    v = np.random.normal(0, 1, t)\n",
    "    s = corrcoef(y, v)\n",
    "    plist.append(s)"
   ]
  },
  {
   "cell_type": "markdown",
   "metadata": {},
   "source": [
    "画出对应的频数图"
   ]
  },
  {
   "cell_type": "code",
   "execution_count": 17,
   "metadata": {},
   "outputs": [
    {
     "data": {
      "image/png": "[encoded data removed]",
      "text/plain": [
       "<Figure size 432x288 with 1 Axes>"
      ]
     },
     "metadata": {
      "needs_background": "light"
     },
     "output_type": "display_data"
    }
   ],
   "source": [
    "plt.figure()\n",
    "plt.hist(plist, bins=32, facecolor=\"w\", edgecolor=\"black\")\n",
    "plt.title('Frequency distribution of the correlation coefficient between I(0) and I(1)')\n",
    "plt.show()"
   ]
  },
  {
   "cell_type": "markdown",
   "metadata": {},
   "source": [
    "### 例14.1 英国利率是否为协整关系？\n",
    "\n",
    "考虑到协整在具有集成变量的回归模型中所起的关键作用，测试其存在显然很重要。 检验可以基于协整回归的残差：\n",
    "\n",
    "$$\n",
    "\\hat{e}_t=y_t-\\hat{\\beta}_0-\\hat{\\beta}_1x_{1,t}-...-\\hat{\\beta}_Mx_{M,t}\n",
    "$$\n",
    "\n",
    "这种基于残差的过程试图用单位根检验来检验没有协整的零假设。\n",
    "\n",
    "ARDL模型的条件错误校正（CEC）形式为：\n",
    "\n",
    "$$\n",
    "\\nabla y_t=\\alpha_0+\\alpha_1t-\\phi(1)y_{t-1}+\\sum_{j=1}^M\\beta_j(1)x_{j,t-1}+\\phi^*(B)\\nabla y_{t-1}+\\sum_{j=0}^M\\gamma_j(B)\\nabla x_{j,t}+a_t\n",
    "$$\n",
    "\n",
    "尽管上式是CEC的一般形式，但是有几种方法可以使常数和趋势进入误差校正。 例如，可以使$\\alpha_0=\\alpha_1=0$，得到以下的化简形式：\n",
    "\n",
    "$$\n",
    "\\nabla y_t=-\\phi(1)ec_{t-1}+\\phi^*(B)\\nabla y_{t-1}+\\sum_{j=0}^M\\gamma_j(B)\\nabla x_{j,t}+a_t\n",
    "$$\n",
    "\n",
    "其中：\n",
    "\n",
    "$$\n",
    "ec_t=y_t-\\sum_{j=1}^M\\frac{\\beta_j(1)}{\\phi(1)}x_{j,t}\n",
    "$$\n",
    "\n",
    "在本题中，选取R20和RS的数据，分别进行回归。其中残差的关系如下：\n",
    "\n",
    "$$\n",
    "\\hat{e}_{1,t}=R20_t-\\hat{\\beta}_0-\\hat{\\beta}_1RS_t \\\\\n",
    "\\hat{e}_{2,t}=RS_t-\\hat{\\beta}_0^{'}-\\hat{\\beta}_1R20_t\n",
    "$$\n",
    "\n",
    "首先读取interest rates数据："
   ]
  },
  {
   "cell_type": "code",
   "execution_count": 18,
   "metadata": {},
   "outputs": [],
   "source": [
    "data = pd.read_csv('data/interest_rates.csv')\n",
    "temp = data.iloc[:, 0]\n",
    "t = pd.to_datetime(data.iloc[:, 0], format='%Y-%m-%d')\n",
    "r20 = np.array(data.iloc[:, 1])\n",
    "rs = np.array(data.iloc[:, 2])"
   ]
  },
  {
   "cell_type": "markdown",
   "metadata": {},
   "source": [
    "将R20与RS数据进行回归，得到以下结果："
   ]
  },
  {
   "cell_type": "code",
   "execution_count": 19,
   "metadata": {},
   "outputs": [
    {
     "name": "stdout",
     "output_type": "stream",
     "text": [
      "LinregressResult(slope=0.7988615802015735, intercept=2.437830758360362, rvalue=0.8822278137604712, pvalue=1.0694382037998232e-258, stderr=0.015226154071853432)\n",
      "LinregressResult(slope=0.9742938384597102, intercept=-1.0051785009305378, rvalue=0.8822278137604712, pvalue=1.0694382037998232e-258, stderr=0.01856986049060193)\n"
     ]
    }
   ],
   "source": [
    "k1 = st.linregress(rs, r20)\n",
    "k2 = st.linregress(r20, rs)\n",
    "print(k1)\n",
    "print(k2)"
   ]
  }
 ],
 "metadata": {
  "kernelspec": {
   "display_name": "Python 3",
   "language": "python",
   "name": "python3"
  },
  "language_info": {
   "codemirror_mode": {
    "name": "ipython",
    "version": 3
   },
   "file_extension": ".py",
   "mimetype": "text/x-python",
   "name": "python",
   "nbconvert_exporter": "python",
   "pygments_lexer": "ipython3",
   "version": "3.7.4"
  },
  "pycharm": {
   "stem_cell": {
    "cell_type": "raw",
    "source": [],
    "metadata": {
     "collapsed": false
    }
   }
  }
 },
 "nbformat": 4,
 "nbformat_minor": 1
}