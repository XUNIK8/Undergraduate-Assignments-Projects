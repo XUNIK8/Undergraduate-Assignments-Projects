{
 "cells": [
  {
   "cell_type": "markdown",
   "metadata": {},
   "source": [
    "# 第15章 向量自回归与VEC模型"
   ]
  },
  {
   "cell_type": "markdown",
   "metadata": {},
   "source": [
    "## 1.向量自回归与整合变量（Integrated Variables）"
   ]
  },
  {
   "cell_type": "markdown",
   "metadata": {},
   "source": [
    "在这一章中，我们需要讨论带有I(1)的向量自回归过程。一般VAR模型的过程为\n",
    "    一个n维时间序列${{Y_t}}$， 而且$$Y=C+\\theta _{1}Y_{t-1}+\\theta _{2}Y_{t-2}...+\\theta _{p}Y_{t-p}+\\varepsilon _{t}$$\n",
    "\n",
    "\n",
    "其中$$E(\\varepsilon )=0, E(\\varepsilon {\\varepsilon }')=\\left\\{\\begin{matrix}\n",
    "\\pi  &  t=\\tau  \\\\ 0\n",
    " &  t\\neq \\tau\n",
    "\\end{matrix}\\right.$$\n",
    "\n",
    "\n",
    "$\\varepsilon$ 在不同时刻独立同分布，且服从正态分布，则称为p阶向量自回归模型。 \n"
   ]
  },
  {
   "cell_type": "markdown",
   "metadata": {},
   "source": [
    "向量自回归模型的一般步骤为\n",
    "* 对原始数据进行平稳性检验，也就是ADF检验\n",
    "* 对应变量和自变量做协整检验\n",
    "* LR（long-run）定阶\n",
    "* 估计参数\n"
   ]
  },
  {
   "cell_type": "code",
   "execution_count": 1,
   "metadata": {},
   "outputs": [],
   "source": [
    "import statsmodels.api as sm\n",
    "import statsmodels.stats.diagnostic\n",
    "import matplotlib.pyplot as plt\n",
    "import pandas as pd\n",
    "import numpy as np\n"
   ]
  },
  {
   "cell_type": "code",
   "execution_count": 3,
   "metadata": {},
   "outputs": [],
   "source": [
    "dta = sm.datasets.webuse('lutkepohl2', 'https://www.stata-press.com/data/r12/')#获取数据\n",
    "dta.index = dta.qtr\n",
    "endog = dta.loc['1960-04-01':'1978-10-01', ['dln_inv', 'dln_inc', 'dln_consump']]"
   ]
  },
  {
   "cell_type": "code",
   "execution_count": 4,
   "metadata": {},
   "outputs": [
    {
     "name": "stderr",
     "output_type": "stream",
     "text": [
      "/root/anaconda3/envs/jupyter_notebook/lib/python3.7/site-packages/statsmodels/tsa/base/tsa_model.py:165: ValueWarning: No frequency information was provided, so inferred frequency QS-OCT will be used.\n",
      "  % freq, ValueWarning)\n"
     ]
    },
    {
     "name": "stdout",
     "output_type": "stream",
     "text": [
      "                             Statespace Model Results                             \n",
      "==================================================================================\n",
      "Dep. Variable:     ['dln_inv', 'dln_inc']   No. Observations:                   75\n",
      "Model:                            VARX(2)   Log Likelihood                 361.038\n",
      "Date:                    Wed, 12 Aug 2020   AIC                           -696.077\n",
      "Time:                            17:59:20   BIC                           -665.949\n",
      "Sample:                        04-01-1960   HQIC                          -684.047\n",
      "                             - 10-01-1978                                         \n",
      "Covariance Type:                      opg                                         \n",
      "===================================================================================\n",
      "Ljung-Box (Q):                61.24, 39.25   Jarque-Bera (JB):          11.14, 2.41\n",
      "Prob(Q):                        0.02, 0.50   Prob(JB):                   0.00, 0.30\n",
      "Heteroskedasticity (H):         0.45, 0.40   Skew:                      0.16, -0.38\n",
      "Prob(H) (two-sided):            0.05, 0.03   Kurtosis:                   4.86, 3.44\n",
      "                            Results for equation dln_inv                            \n",
      "====================================================================================\n",
      "                       coef    std err          z      P>|z|      [0.025      0.975]\n",
      "------------------------------------------------------------------------------------\n",
      "L1.dln_inv          -0.2388      0.093     -2.564      0.010      -0.421      -0.056\n",
      "L1.dln_inc           0.2861      0.450      0.636      0.525      -0.595       1.167\n",
      "L2.dln_inv          -0.1665      0.155     -1.072      0.284      -0.471       0.138\n",
      "L2.dln_inc           0.0628      0.421      0.149      0.881      -0.762       0.888\n",
      "beta.dln_consump     0.9750      0.638      1.528      0.127      -0.276       2.226\n",
      "                            Results for equation dln_inc                            \n",
      "====================================================================================\n",
      "                       coef    std err          z      P>|z|      [0.025      0.975]\n",
      "------------------------------------------------------------------------------------\n",
      "L1.dln_inv           0.0633      0.036      1.773      0.076      -0.007       0.133\n",
      "L1.dln_inc           0.0811      0.107      0.758      0.448      -0.129       0.291\n",
      "L2.dln_inv           0.0104      0.033      0.315      0.753      -0.054       0.075\n",
      "L2.dln_inc           0.0350      0.134      0.261      0.794      -0.228       0.298\n",
      "beta.dln_consump     0.7731      0.112      6.879      0.000       0.553       0.993\n",
      "                                  Error covariance matrix                                   \n",
      "============================================================================================\n",
      "                               coef    std err          z      P>|z|      [0.025      0.975]\n",
      "--------------------------------------------------------------------------------------------\n",
      "sqrt.var.dln_inv             0.0434      0.004     12.284      0.000       0.036       0.050\n",
      "sqrt.cov.dln_inv.dln_inc   5.58e-05      0.002      0.028      0.978      -0.004       0.004\n",
      "sqrt.var.dln_inc             0.0109      0.001     11.222      0.000       0.009       0.013\n",
      "============================================================================================\n",
      "\n",
      "Warnings:\n",
      "[1] Covariance matrix calculated using the outer product of gradients (complex-step).\n"
     ]
    }
   ],
   "source": [
    "exog = endog['dln_consump']\n",
    "mod = sm.tsa.VARMAX(endog[['dln_inv', 'dln_inc']], order=(2,0), trend='n', exog=exog)\n",
    "res = mod.fit(maxiter=1000, disp=False)\n",
    "print(res.summary())"
   ]
  },
  {
   "cell_type": "markdown",
   "metadata": {},
   "source": [
    "以上 为VAR（2）的一个估计实例"
   ]
  },
  {
   "cell_type": "markdown",
   "metadata": {},
   "source": [
    "## 向量自回归与协整变量（Cointegrated Variables）\n",
    "\n",
    "**协整** ：如果所考虑的时间序列具有相同的单整阶数，且某种协整向量使得组合时间序列的单整阶数降低，则称这些时间序列之间存在显著的协整关系。"
   ]
  },
  {
   "cell_type": "markdown",
   "metadata": {},
   "source": [
    "### Example15.2"
   ]
  },
  {
   "cell_type": "markdown",
   "metadata": {},
   "source": [
    "首先用VAR（2）估计rs 与rs20 这两个向量。估计时使用C作为外生变量。"
   ]
  },
  {
   "cell_type": "code",
   "execution_count": 3,
   "metadata": {},
   "outputs": [
    {
     "data": {
      "text/html": [
       "<div>\n",
       "<style scoped>\n",
       "    .dataframe tbody tr th:only-of-type {\n",
       "        vertical-align: middle;\n",
       "    }\n",
       "\n",
       "    .dataframe tbody tr th {\n",
       "        vertical-align: top;\n",
       "    }\n",
       "\n",
       "    .dataframe thead th {\n",
       "        text-align: right;\n",
       "    }\n",
       "</style>\n",
       "<table border=\"1\" class=\"dataframe\">\n",
       "  <thead>\n",
       "    <tr style=\"text-align: right;\">\n",
       "      <th></th>\n",
       "      <th>_date_</th>\n",
       "      <th>rs</th>\n",
       "      <th>r20</th>\n",
       "      <th>c</th>\n",
       "      <th>resid</th>\n",
       "    </tr>\n",
       "  </thead>\n",
       "  <tbody>\n",
       "    <tr>\n",
       "      <td>823</td>\n",
       "      <td>2020-08-01</td>\n",
       "      <td>NaN</td>\n",
       "      <td>NaN</td>\n",
       "      <td>0.0</td>\n",
       "      <td>NaN</td>\n",
       "    </tr>\n",
       "    <tr>\n",
       "      <td>824</td>\n",
       "      <td>2020-09-01</td>\n",
       "      <td>NaN</td>\n",
       "      <td>NaN</td>\n",
       "      <td>0.0</td>\n",
       "      <td>NaN</td>\n",
       "    </tr>\n",
       "    <tr>\n",
       "      <td>825</td>\n",
       "      <td>2020-10-01</td>\n",
       "      <td>NaN</td>\n",
       "      <td>NaN</td>\n",
       "      <td>0.0</td>\n",
       "      <td>NaN</td>\n",
       "    </tr>\n",
       "    <tr>\n",
       "      <td>826</td>\n",
       "      <td>2020-11-01</td>\n",
       "      <td>NaN</td>\n",
       "      <td>NaN</td>\n",
       "      <td>0.0</td>\n",
       "      <td>NaN</td>\n",
       "    </tr>\n",
       "    <tr>\n",
       "      <td>827</td>\n",
       "      <td>2020-12-01</td>\n",
       "      <td>NaN</td>\n",
       "      <td>NaN</td>\n",
       "      <td>0.0</td>\n",
       "      <td>NaN</td>\n",
       "    </tr>\n",
       "  </tbody>\n",
       "</table>\n",
       "</div>"
      ],
      "text/plain": [
       "        _date_  rs  r20    c  resid\n",
       "823 2020-08-01 NaN  NaN  0.0    NaN\n",
       "824 2020-09-01 NaN  NaN  0.0    NaN\n",
       "825 2020-10-01 NaN  NaN  0.0    NaN\n",
       "826 2020-11-01 NaN  NaN  0.0    NaN\n",
       "827 2020-12-01 NaN  NaN  0.0    NaN"
      ]
     },
     "execution_count": 3,
     "metadata": {},
     "output_type": "execute_result"
    }
   ],
   "source": [
    "df=pd.read_excel(\"/root/experiment01/rs1.xlsx\")\n",
    "df.head()\n",
    "df.tail()"
   ]
  },
  {
   "cell_type": "code",
   "execution_count": 84,
   "metadata": {},
   "outputs": [
    {
     "data": {
      "text/plain": [
       "0     -0.012296\n",
       "1      0.233268\n",
       "2     -0.081877\n",
       "3     -0.113973\n",
       "4      0.007990\n",
       "         ...   \n",
       "781    0.000000\n",
       "782    0.000000\n",
       "783    0.000000\n",
       "784    0.000000\n",
       "785    0.000000\n",
       "Name: c, Length: 786, dtype: float64"
      ]
     },
     "execution_count": 84,
     "metadata": {},
     "output_type": "execute_result"
    }
   ],
   "source": [
    "endog=df[['rs', 'r20']].dropna()\n",
    "ex=df[\"c\"][:len(endog)]\n",
    "endog\n",
    "ex"
   ]
  },
  {
   "cell_type": "code",
   "execution_count": 16,
   "metadata": {},
   "outputs": [
    {
     "name": "stdout",
     "output_type": "stream",
     "text": [
      "                           Statespace Model Results                           \n",
      "==============================================================================\n",
      "Dep. Variable:          ['rs', 'r20']   No. Observations:                  828\n",
      "Model:                        VARX(2)   Log Likelihood                -471.867\n",
      "Date:                Wed, 12 Aug 2020   AIC                            969.733\n",
      "Time:                        19:22:00   BIC                           1031.080\n",
      "Sample:                             0   HQIC                           993.262\n",
      "                                - 828                                         \n",
      "Covariance Type:                  opg                                         \n",
      "===================================================================================\n",
      "Ljung-Box (Q):                    nan, nan   Jarque-Bera (JB):      1663.06, 188.00\n",
      "Prob(Q):                          nan, nan   Prob(JB):                   0.00, 0.00\n",
      "Heteroskedasticity (H):         0.17, 0.60   Skew:                      1.14, -0.18\n",
      "Prob(H) (two-sided):            0.00, 0.00   Kurtosis:                   9.75, 5.37\n",
      "                           Results for equation rs                            \n",
      "==============================================================================\n",
      "                 coef    std err          z      P>|z|      [0.025      0.975]\n",
      "------------------------------------------------------------------------------\n",
      "L1.rs          1.1999      0.027     44.000      0.000       1.146       1.253\n",
      "L1.r20         0.2807      0.053      5.268      0.000       0.176       0.385\n",
      "L2.rs         -0.2280      0.027     -8.468      0.000      -0.281      -0.175\n",
      "L2.r20        -0.2577      0.053     -4.840      0.000      -0.362      -0.153\n",
      "beta.c        -0.2672      1.567     -0.170      0.865      -3.339       2.804\n",
      "                           Results for equation r20                           \n",
      "==============================================================================\n",
      "                 coef    std err          z      P>|z|      [0.025      0.975]\n",
      "------------------------------------------------------------------------------\n",
      "L1.rs         -0.0206      0.021     -0.988      0.323      -0.061       0.020\n",
      "L1.r20         1.2833      0.028     45.356      0.000       1.228       1.339\n",
      "L2.rs          0.0228      0.021      1.081      0.280      -0.019       0.064\n",
      "L2.r20        -0.2867      0.028    -10.279      0.000      -0.341      -0.232\n",
      "beta.c         0.0478      0.664      0.072      0.943      -1.254       1.350\n",
      "                              Error covariance matrix                              \n",
      "===================================================================================\n",
      "                      coef    std err          z      P>|z|      [0.025      0.975]\n",
      "-----------------------------------------------------------------------------------\n",
      "sqrt.var.rs         0.4257      0.006     69.935      0.000       0.414       0.438\n",
      "sqrt.cov.rs.r20     0.1282      0.007     18.027      0.000       0.114       0.142\n",
      "sqrt.var.r20        0.2492      0.005     53.063      0.000       0.240       0.258\n",
      "===================================================================================\n",
      "\n",
      "Warnings:\n",
      "[1] Covariance matrix calculated using the outer product of gradients (complex-step).\n"
     ]
    }
   ],
   "source": [
    "mod = sm.tsa.VARMAX(endog, order=(2,0), trend='n', exog=ex)\n",
    "res = mod.fit(maxiter=1000, disp=False)\n",
    "print(res.summary())"
   ]
  },
  {
   "cell_type": "code",
   "execution_count": 19,
   "metadata": {},
   "outputs": [
    {
     "name": "stdout",
     "output_type": "stream",
     "text": [
      "                           Statespace Model Results                           \n",
      "==============================================================================\n",
      "Dep. Variable:          ['rs', 'r20']   No. Observations:                  828\n",
      "Model:                        VARX(3)   Log Likelihood                -465.030\n",
      "Date:                Wed, 12 Aug 2020   AIC                            964.061\n",
      "Time:                        19:39:24   BIC                           1044.284\n",
      "Sample:                             0   HQIC                           994.829\n",
      "                                - 828                                         \n",
      "Covariance Type:                  opg                                         \n",
      "===================================================================================\n",
      "Ljung-Box (Q):                    nan, nan   Jarque-Bera (JB):      1694.47, 168.11\n",
      "Prob(Q):                          nan, nan   Prob(JB):                   0.00, 0.00\n",
      "Heteroskedasticity (H):         0.17, 0.57   Skew:                      1.18, -0.13\n",
      "Prob(H) (two-sided):            0.00, 0.00   Kurtosis:                   9.80, 5.25\n",
      "                           Results for equation rs                            \n",
      "==============================================================================\n",
      "                 coef    std err          z      P>|z|      [0.025      0.975]\n",
      "------------------------------------------------------------------------------\n",
      "L1.rs          1.1957      0.029     41.645      0.000       1.139       1.252\n",
      "L1.r20         0.2982      0.056      5.373      0.000       0.189       0.407\n",
      "L2.rs         -0.1852      0.052     -3.551      0.000      -0.287      -0.083\n",
      "L2.r20        -0.3507      0.093     -3.772      0.000      -0.533      -0.168\n",
      "L3.rs         -0.0397      0.040     -0.996      0.319      -0.118       0.038\n",
      "L3.r20         0.0764      0.063      1.219      0.223      -0.046       0.199\n",
      "beta.c        -0.2798      1.482     -0.189      0.850      -3.184       2.624\n",
      "                           Results for equation r20                           \n",
      "==============================================================================\n",
      "                 coef    std err          z      P>|z|      [0.025      0.975]\n",
      "------------------------------------------------------------------------------\n",
      "L1.rs         -0.0106      0.022     -0.492      0.623      -0.053       0.032\n",
      "L1.r20         1.3101      0.030     43.907      0.000       1.252       1.369\n",
      "L2.rs          0.0335      0.034      0.980      0.327      -0.034       0.101\n",
      "L2.r20        -0.4525      0.046     -9.785      0.000      -0.543      -0.362\n",
      "L3.rs         -0.0210      0.023     -0.913      0.361      -0.066       0.024\n",
      "L3.r20         0.1392      0.029      4.803      0.000       0.082       0.196\n",
      "beta.c         0.0453      0.708      0.064      0.949      -1.342       1.433\n",
      "                              Error covariance matrix                              \n",
      "===================================================================================\n",
      "                      coef    std err          z      P>|z|      [0.025      0.975]\n",
      "-----------------------------------------------------------------------------------\n",
      "sqrt.var.rs         0.4252      0.006     69.958      0.000       0.413       0.437\n",
      "sqrt.cov.rs.r20     0.1270      0.007     18.039      0.000       0.113       0.141\n",
      "sqrt.var.r20        0.2473      0.005     52.501      0.000       0.238       0.257\n",
      "===================================================================================\n",
      "\n",
      "Warnings:\n",
      "[1] Covariance matrix calculated using the outer product of gradients (complex-step).\n"
     ]
    }
   ],
   "source": [
    "# 使用VAR(3)估计\n",
    "mod = sm.tsa.VARMAX(endog, order=(3,0), trend='n', exog=ex)\n",
    "res = mod.fit(maxiter=1000, disp=False)\n",
    "print(res.summary())"
   ]
  },
  {
   "cell_type": "code",
   "execution_count": null,
   "metadata": {},
   "outputs": [],
   "source": []
  },
  {
   "cell_type": "markdown",
   "metadata": {},
   "source": [
    "# Example 15.3"
   ]
  },
  {
   "cell_type": "markdown",
   "metadata": {},
   "source": [
    "检验VECM模型在英国利率上的表现\n"
   ]
  },
  {
   "cell_type": "code",
   "execution_count": 1,
   "metadata": {},
   "outputs": [
    {
     "ename": "NameError",
     "evalue": "name 'endog' is not defined",
     "output_type": "error",
     "traceback": [
      "\u001b[0;31m---------------------------------------------------------------------------\u001b[0m",
      "\u001b[0;31mNameError\u001b[0m                                 Traceback (most recent call last)",
      "\u001b[0;32m<ipython-input-1-d4a2bef29d17>\u001b[0m in \u001b[0;36m<module>\u001b[0;34m\u001b[0m\n\u001b[1;32m      1\u001b[0m \u001b[0;32mfrom\u001b[0m \u001b[0mstatsmodels\u001b[0m\u001b[0;34m.\u001b[0m\u001b[0mtsa\u001b[0m\u001b[0;34m.\u001b[0m\u001b[0mvector_ar\u001b[0m\u001b[0;34m.\u001b[0m\u001b[0mvecm\u001b[0m \u001b[0;32mimport\u001b[0m \u001b[0mVECM\u001b[0m\u001b[0;34m\u001b[0m\u001b[0;34m\u001b[0m\u001b[0m\n\u001b[0;32m----> 2\u001b[0;31m \u001b[0mmodel\u001b[0m \u001b[0;34m=\u001b[0m \u001b[0mVECM\u001b[0m\u001b[0;34m(\u001b[0m\u001b[0mendog\u001b[0m \u001b[0;34m=\u001b[0m \u001b[0mendog\u001b[0m\u001b[0;34m,\u001b[0m \u001b[0mk_ar_diff\u001b[0m \u001b[0;34m=\u001b[0m \u001b[0;36m7\u001b[0m\u001b[0;34m,\u001b[0m \u001b[0mcoint_rank\u001b[0m \u001b[0;34m=\u001b[0m \u001b[0;36m6\u001b[0m\u001b[0;34m,\u001b[0m \u001b[0mdeterministic\u001b[0m \u001b[0;34m=\u001b[0m \u001b[0;34m'co'\u001b[0m\u001b[0;34m)\u001b[0m\u001b[0;34m\u001b[0m\u001b[0;34m\u001b[0m\u001b[0m\n\u001b[0m\u001b[1;32m      3\u001b[0m \u001b[0mres\u001b[0m \u001b[0;34m=\u001b[0m \u001b[0mmodel\u001b[0m\u001b[0;34m.\u001b[0m\u001b[0mfit\u001b[0m\u001b[0;34m(\u001b[0m\u001b[0;34m)\u001b[0m\u001b[0;34m\u001b[0m\u001b[0;34m\u001b[0m\u001b[0m\n\u001b[1;32m      4\u001b[0m \u001b[0;34m\u001b[0m\u001b[0m\n\u001b[1;32m      5\u001b[0m \u001b[0mX_pred\u001b[0m \u001b[0;34m=\u001b[0m \u001b[0mres\u001b[0m\u001b[0;34m.\u001b[0m\u001b[0mpredict\u001b[0m\u001b[0;34m(\u001b[0m\u001b[0msteps\u001b[0m\u001b[0;34m=\u001b[0m\u001b[0;36m10\u001b[0m\u001b[0;34m)\u001b[0m\u001b[0;34m\u001b[0m\u001b[0;34m\u001b[0m\u001b[0m\n",
      "\u001b[0;31mNameError\u001b[0m: name 'endog' is not defined"
     ]
    }
   ],
   "source": [
    "from statsmodels.tsa.vector_ar.vecm import VECM\n",
    "model = VECM(endog = endog, k_ar_diff = 7, coint_rank = 6, deterministic = 'co')\n",
    "res = model.fit()\n",
    "\n",
    "X_pred = res.predict(steps=10)\n",
    "X_pred"
   ]
  },
  {
   "cell_type": "code",
   "execution_count": 128,
   "metadata": {},
   "outputs": [
    {
     "data": {
      "image/png": "[encoded data removed]",
      "text/plain": [
       "<Figure size 432x288 with 1 Axes>"
      ]
     },
     "metadata": {
      "needs_background": "light"
     },
     "output_type": "display_data"
    }
   ],
   "source": [
    "#预测结果\n",
    "plt.plot(X_pred)\n",
    "plt.legend(['rs',\"r20\"])\n",
    "plt.show()"
   ]
  },
  {
   "cell_type": "markdown",
   "metadata": {},
   "source": [
    "# Example15.4\n"
   ]
  },
  {
   "cell_type": "code",
   "execution_count": 11,
   "metadata": {},
   "outputs": [],
   "source": [
    "import numpy as np\n",
    "import pandas\n",
    "import statsmodels.api as sm\n",
    "from statsmodels.tsa.api import VAR,SVAR\n"
   ]
  },
  {
   "cell_type": "code",
   "execution_count": 65,
   "metadata": {},
   "outputs": [
    {
     "data": {
      "text/plain": [
       "array([[1., 1.],\n",
       "       [1., 1.]])"
      ]
     },
     "execution_count": 65,
     "metadata": {},
     "output_type": "execute_result"
    }
   ],
   "source": [
    "np.ones((2,2))"
   ]
  },
  {
   "cell_type": "code",
   "execution_count": 88,
   "metadata": {},
   "outputs": [],
   "source": [
    "model = VAR(endog)\n",
    "results = model.fit(3)"
   ]
  },
  {
   "cell_type": "code",
   "execution_count": 72,
   "metadata": {},
   "outputs": [
    {
     "data": {
      "text/plain": [
       "  Summary of Regression Results   \n",
       "==================================\n",
       "Model:                         VAR\n",
       "Method:                        OLS\n",
       "Date:           Wed, 12, Aug, 2020\n",
       "Time:                     21:16:26\n",
       "--------------------------------------------------------------------\n",
       "No. of Equations:         2.00000    BIC:                   -4.39319\n",
       "Nobs:                     783.000    HQIC:                  -4.44450\n",
       "Log likelihood:          -455.483    FPE:                  0.0113724\n",
       "AIC:                     -4.47656    Det(Omega_mle):       0.0111718\n",
       "--------------------------------------------------------------------\n",
       "Results for equation rs\n",
       "=========================================================================\n",
       "            coefficient       std. error           t-stat            prob\n",
       "-------------------------------------------------------------------------\n",
       "const         -0.005228         0.036862           -0.142           0.887\n",
       "L1.rs          1.199313         0.040129           29.886           0.000\n",
       "L1.r20         0.294782         0.061048            4.829           0.000\n",
       "L2.rs         -0.187626         0.062012           -3.026           0.002\n",
       "L2.r20        -0.348557         0.094870           -3.674           0.000\n",
       "L3.rs         -0.038836         0.039528           -0.982           0.326\n",
       "L3.r20         0.076997         0.061701            1.248           0.212\n",
       "=========================================================================\n",
       "\n",
       "Results for equation r20\n",
       "=========================================================================\n",
       "            coefficient       std. error           t-stat            prob\n",
       "-------------------------------------------------------------------------\n",
       "const          0.022874         0.024202            0.945           0.345\n",
       "L1.rs         -0.009637         0.026347           -0.366           0.715\n",
       "L1.r20         1.309279         0.040081           32.665           0.000\n",
       "L2.rs          0.033408         0.040715            0.821           0.412\n",
       "L2.r20        -0.452051         0.062288           -7.257           0.000\n",
       "L3.rs         -0.019845         0.025952           -0.765           0.444\n",
       "L3.r20         0.136011         0.040510            3.357           0.001\n",
       "=========================================================================\n",
       "\n",
       "Correlation matrix of residuals\n",
       "             rs       r20\n",
       "rs     1.000000  0.459487\n",
       "r20    0.459487  1.000000\n",
       "\n"
      ]
     },
     "execution_count": 72,
     "metadata": {},
     "output_type": "execute_result"
    }
   ],
   "source": [
    "results.summary()"
   ]
  },
  {
   "cell_type": "code",
   "execution_count": 73,
   "metadata": {},
   "outputs": [],
   "source": [
    "#results.plot()"
   ]
  },
  {
   "cell_type": "code",
   "execution_count": 74,
   "metadata": {},
   "outputs": [
    {
     "name": "stdout",
     "output_type": "stream",
     "text": [
      "<statsmodels.tsa.vector_ar.hypothesis_test_results.CausalityTestResults object. H_0: %s do not Granger-cause rs: reject at 5% significance level. Test statistic: 62868.469, critical value: 12.592>, p-value: 0.000>\n"
     ]
    }
   ],
   "source": [
    "res=results.test_causality('rs', ['r20', 'rs'], kind='wald')\n",
    "print(res)"
   ]
  },
  {
   "cell_type": "code",
   "execution_count": 75,
   "metadata": {},
   "outputs": [
    {
     "data": {
      "text/plain": [
       "{'Gamma': array([[ 0.22646186,  0.27155938,  0.0388359 , -0.07699749],\n",
       "        [-0.01356378,  0.31604068,  0.01984455, -0.13601057]]),\n",
       " 'Pi': array([[-0.02714869,  0.02322247],\n",
       "        [ 0.00392675, -0.00676172]])}"
      ]
     },
     "execution_count": 75,
     "metadata": {},
     "output_type": "execute_result"
    }
   ],
   "source": [
    "results.to_vecm()"
   ]
  },
  {
   "cell_type": "markdown",
   "metadata": {},
   "source": [
    "# 15.5 LA-VAR causality tests for U.K. interest rates"
   ]
  },
  {
   "cell_type": "code",
   "execution_count": 56,
   "metadata": {},
   "outputs": [
    {
     "name": "stdout",
     "output_type": "stream",
     "text": [
      "<statsmodels.tsa.vector_ar.hypothesis_test_results.CausalityTestResults object. H_0: %s do not Granger-cause rs: reject at 5% significance level. Test statistic: 7827.480, critical value: 1.944>, p-value: 0.000>\n"
     ]
    }
   ],
   "source": [
    "import numpy as np\n",
    "import pandas\n",
    "import statsmodels.api as sm\n",
    "from statsmodels.tsa.api import VAR\n",
    "model = VAR(endog)\n",
    "results = model.fit(4)\n",
    "res=results.test_causality('rs', ['r20', 'rs'])\n",
    "print(res)"
   ]
  },
  {
   "cell_type": "markdown",
   "metadata": {},
   "source": [
    "# 15.6 "
   ]
  },
  {
   "cell_type": "markdown",
   "metadata": {},
   "source": [
    "待解决"
   ]
  },
  {
   "cell_type": "code",
   "execution_count": 102,
   "metadata": {},
   "outputs": [
    {
     "data": {
      "text/plain": [
       "array([], shape=(0, 1), dtype=[('lower', '<f8'), ('upper', '<f8')])"
      ]
     },
     "execution_count": 102,
     "metadata": {},
     "output_type": "execute_result"
    }
   ],
   "source": [
    "from statsmodels.tsa.vector_ar.vecm import VECM\n",
    "model = VECM(endog = endog, k_ar_diff = 2, coint_rank = 1, deterministic = 'co')\n",
    "res = model.fit()\n",
    "res.conf_int_det_coef_coint()"
   ]
  },
  {
   "cell_type": "markdown",
   "metadata": {},
   "source": [
    "# 15.7"
   ]
  },
  {
   "cell_type": "code",
   "execution_count": 2,
   "metadata": {},
   "outputs": [
    {
     "data": {
      "text/html": [
       "<div>\n",
       "<style scoped>\n",
       "    .dataframe tbody tr th:only-of-type {\n",
       "        vertical-align: middle;\n",
       "    }\n",
       "\n",
       "    .dataframe tbody tr th {\n",
       "        vertical-align: top;\n",
       "    }\n",
       "\n",
       "    .dataframe thead th {\n",
       "        text-align: right;\n",
       "    }\n",
       "</style>\n",
       "<table border=\"1\" class=\"dataframe\">\n",
       "  <thead>\n",
       "    <tr style=\"text-align: right;\">\n",
       "      <th></th>\n",
       "      <th>trf</th>\n",
       "      <th>temp</th>\n",
       "      <th>c</th>\n",
       "      <th>volc</th>\n",
       "      <th>amo</th>\n",
       "      <th>soi</th>\n",
       "    </tr>\n",
       "  </thead>\n",
       "  <tbody>\n",
       "    <tr>\n",
       "      <td>0</td>\n",
       "      <td>0.155966</td>\n",
       "      <td>0.058267</td>\n",
       "      <td>0.309571</td>\n",
       "      <td>0.219079</td>\n",
       "      <td>0.205083</td>\n",
       "      <td>-0.025000</td>\n",
       "    </tr>\n",
       "    <tr>\n",
       "      <td>1</td>\n",
       "      <td>0.150523</td>\n",
       "      <td>-0.010733</td>\n",
       "      <td>0.083041</td>\n",
       "      <td>0.229017</td>\n",
       "      <td>0.143583</td>\n",
       "      <td>-0.008333</td>\n",
       "    </tr>\n",
       "    <tr>\n",
       "      <td>2</td>\n",
       "      <td>0.173692</td>\n",
       "      <td>0.072267</td>\n",
       "      <td>0.026940</td>\n",
       "      <td>0.231073</td>\n",
       "      <td>0.155917</td>\n",
       "      <td>-0.138333</td>\n",
       "    </tr>\n",
       "    <tr>\n",
       "      <td>3</td>\n",
       "      <td>0.217857</td>\n",
       "      <td>0.041267</td>\n",
       "      <td>0.132820</td>\n",
       "      <td>0.222848</td>\n",
       "      <td>0.097083</td>\n",
       "      <td>0.062500</td>\n",
       "    </tr>\n",
       "    <tr>\n",
       "      <td>4</td>\n",
       "      <td>0.251133</td>\n",
       "      <td>0.028267</td>\n",
       "      <td>0.188829</td>\n",
       "      <td>0.218736</td>\n",
       "      <td>0.020000</td>\n",
       "      <td>-0.026667</td>\n",
       "    </tr>\n",
       "    <tr>\n",
       "      <td>...</td>\n",
       "      <td>...</td>\n",
       "      <td>...</td>\n",
       "      <td>...</td>\n",
       "      <td>...</td>\n",
       "      <td>...</td>\n",
       "      <td>...</td>\n",
       "    </tr>\n",
       "    <tr>\n",
       "      <td>145</td>\n",
       "      <td>2.282982</td>\n",
       "      <td>0.725267</td>\n",
       "      <td>0.390467</td>\n",
       "      <td>0.000000</td>\n",
       "      <td>0.101667</td>\n",
       "      <td>0.228333</td>\n",
       "    </tr>\n",
       "    <tr>\n",
       "      <td>146</td>\n",
       "      <td>2.342985</td>\n",
       "      <td>0.773267</td>\n",
       "      <td>0.390467</td>\n",
       "      <td>0.000000</td>\n",
       "      <td>0.213333</td>\n",
       "      <td>-0.019167</td>\n",
       "    </tr>\n",
       "    <tr>\n",
       "      <td>147</td>\n",
       "      <td>2.374454</td>\n",
       "      <td>0.802267</td>\n",
       "      <td>0.390467</td>\n",
       "      <td>0.000000</td>\n",
       "      <td>0.166500</td>\n",
       "      <td>0.041667</td>\n",
       "    </tr>\n",
       "    <tr>\n",
       "      <td>148</td>\n",
       "      <td>2.376194</td>\n",
       "      <td>0.870267</td>\n",
       "      <td>0.390467</td>\n",
       "      <td>0.000000</td>\n",
       "      <td>0.102250</td>\n",
       "      <td>-0.068333</td>\n",
       "    </tr>\n",
       "    <tr>\n",
       "      <td>149</td>\n",
       "      <td>2.376060</td>\n",
       "      <td>1.049267</td>\n",
       "      <td>0.390467</td>\n",
       "      <td>0.000000</td>\n",
       "      <td>0.114750</td>\n",
       "      <td>-0.191667</td>\n",
       "    </tr>\n",
       "  </tbody>\n",
       "</table>\n",
       "<p>150 rows × 6 columns</p>\n",
       "</div>"
      ],
      "text/plain": [
       "          trf      temp         c      volc       amo       soi\n",
       "0    0.155966  0.058267  0.309571  0.219079  0.205083 -0.025000\n",
       "1    0.150523 -0.010733  0.083041  0.229017  0.143583 -0.008333\n",
       "2    0.173692  0.072267  0.026940  0.231073  0.155917 -0.138333\n",
       "3    0.217857  0.041267  0.132820  0.222848  0.097083  0.062500\n",
       "4    0.251133  0.028267  0.188829  0.218736  0.020000 -0.026667\n",
       "..        ...       ...       ...       ...       ...       ...\n",
       "145  2.282982  0.725267  0.390467  0.000000  0.101667  0.228333\n",
       "146  2.342985  0.773267  0.390467  0.000000  0.213333 -0.019167\n",
       "147  2.374454  0.802267  0.390467  0.000000  0.166500  0.041667\n",
       "148  2.376194  0.870267  0.390467  0.000000  0.102250 -0.068333\n",
       "149  2.376060  1.049267  0.390467  0.000000  0.114750 -0.191667\n",
       "\n",
       "[150 rows x 6 columns]"
      ]
     },
     "execution_count": 2,
     "metadata": {},
     "output_type": "execute_result"
    }
   ],
   "source": [
    "data=pd.read_excel(\"/root/experiment01/trf1.xlsx\")\n",
    "\n",
    "data=data.drop(columns = ['_date_'])\n",
    "data=data.dropna()\n",
    "data"
   ]
  },
  {
   "cell_type": "code",
   "execution_count": 3,
   "metadata": {},
   "outputs": [],
   "source": [
    "endog=data[['trf', 'temp']].copy()\n",
    "exo=data[[\"volc\", \"soi\", \"amo\"]].copy()\n",
    "amo=data[\"amo\"].copy()"
   ]
  },
  {
   "cell_type": "code",
   "execution_count": 4,
   "metadata": {},
   "outputs": [],
   "source": [
    "exo[\"amo(-1)\"]=amo.shift(-1)\n",
    "\n",
    "endog=endog[:-1]"
   ]
  },
  {
   "cell_type": "code",
   "execution_count": 5,
   "metadata": {},
   "outputs": [
    {
     "data": {
      "text/html": [
       "<div>\n",
       "<style scoped>\n",
       "    .dataframe tbody tr th:only-of-type {\n",
       "        vertical-align: middle;\n",
       "    }\n",
       "\n",
       "    .dataframe tbody tr th {\n",
       "        vertical-align: top;\n",
       "    }\n",
       "\n",
       "    .dataframe thead th {\n",
       "        text-align: right;\n",
       "    }\n",
       "</style>\n",
       "<table border=\"1\" class=\"dataframe\">\n",
       "  <thead>\n",
       "    <tr style=\"text-align: right;\">\n",
       "      <th></th>\n",
       "      <th>volc</th>\n",
       "      <th>soi</th>\n",
       "      <th>amo</th>\n",
       "      <th>amo(-1)</th>\n",
       "    </tr>\n",
       "  </thead>\n",
       "  <tbody>\n",
       "    <tr>\n",
       "      <td>0</td>\n",
       "      <td>0.219079</td>\n",
       "      <td>-0.025000</td>\n",
       "      <td>0.205083</td>\n",
       "      <td>0.143583</td>\n",
       "    </tr>\n",
       "    <tr>\n",
       "      <td>1</td>\n",
       "      <td>0.229017</td>\n",
       "      <td>-0.008333</td>\n",
       "      <td>0.143583</td>\n",
       "      <td>0.155917</td>\n",
       "    </tr>\n",
       "    <tr>\n",
       "      <td>2</td>\n",
       "      <td>0.231073</td>\n",
       "      <td>-0.138333</td>\n",
       "      <td>0.155917</td>\n",
       "      <td>0.097083</td>\n",
       "    </tr>\n",
       "    <tr>\n",
       "      <td>3</td>\n",
       "      <td>0.222848</td>\n",
       "      <td>0.062500</td>\n",
       "      <td>0.097083</td>\n",
       "      <td>0.020000</td>\n",
       "    </tr>\n",
       "    <tr>\n",
       "      <td>4</td>\n",
       "      <td>0.218736</td>\n",
       "      <td>-0.026667</td>\n",
       "      <td>0.020000</td>\n",
       "      <td>0.033167</td>\n",
       "    </tr>\n",
       "    <tr>\n",
       "      <td>...</td>\n",
       "      <td>...</td>\n",
       "      <td>...</td>\n",
       "      <td>...</td>\n",
       "      <td>...</td>\n",
       "    </tr>\n",
       "    <tr>\n",
       "      <td>144</td>\n",
       "      <td>0.000000</td>\n",
       "      <td>0.132500</td>\n",
       "      <td>0.348917</td>\n",
       "      <td>0.101667</td>\n",
       "    </tr>\n",
       "    <tr>\n",
       "      <td>145</td>\n",
       "      <td>0.000000</td>\n",
       "      <td>0.228333</td>\n",
       "      <td>0.101667</td>\n",
       "      <td>0.213333</td>\n",
       "    </tr>\n",
       "    <tr>\n",
       "      <td>146</td>\n",
       "      <td>0.000000</td>\n",
       "      <td>-0.019167</td>\n",
       "      <td>0.213333</td>\n",
       "      <td>0.166500</td>\n",
       "    </tr>\n",
       "    <tr>\n",
       "      <td>147</td>\n",
       "      <td>0.000000</td>\n",
       "      <td>0.041667</td>\n",
       "      <td>0.166500</td>\n",
       "      <td>0.102250</td>\n",
       "    </tr>\n",
       "    <tr>\n",
       "      <td>148</td>\n",
       "      <td>0.000000</td>\n",
       "      <td>-0.068333</td>\n",
       "      <td>0.102250</td>\n",
       "      <td>0.114750</td>\n",
       "    </tr>\n",
       "  </tbody>\n",
       "</table>\n",
       "<p>149 rows × 4 columns</p>\n",
       "</div>"
      ],
      "text/plain": [
       "         volc       soi       amo   amo(-1)\n",
       "0    0.219079 -0.025000  0.205083  0.143583\n",
       "1    0.229017 -0.008333  0.143583  0.155917\n",
       "2    0.231073 -0.138333  0.155917  0.097083\n",
       "3    0.222848  0.062500  0.097083  0.020000\n",
       "4    0.218736 -0.026667  0.020000  0.033167\n",
       "..        ...       ...       ...       ...\n",
       "144  0.000000  0.132500  0.348917  0.101667\n",
       "145  0.000000  0.228333  0.101667  0.213333\n",
       "146  0.000000 -0.019167  0.213333  0.166500\n",
       "147  0.000000  0.041667  0.166500  0.102250\n",
       "148  0.000000 -0.068333  0.102250  0.114750\n",
       "\n",
       "[149 rows x 4 columns]"
      ]
     },
     "execution_count": 5,
     "metadata": {},
     "output_type": "execute_result"
    }
   ],
   "source": [
    "exo=exo.dropna()\n",
    "exo\n",
    "\n"
   ]
  },
  {
   "cell_type": "code",
   "execution_count": 31,
   "metadata": {},
   "outputs": [
    {
     "name": "stdout",
     "output_type": "stream",
     "text": [
      "Det. terms outside the coint. relation & lagged endog. parameters for equation trf\n",
      "==============================================================================\n",
      "                 coef    std err          z      P>|z|      [0.025      0.975]\n",
      "------------------------------------------------------------------------------\n",
      "const         -0.0035      0.002     -2.026      0.043      -0.007      -0.000\n",
      "exog1         -0.0024      0.003     -0.826      0.409      -0.008       0.003\n",
      "exog2          0.0008      0.008      0.111      0.912      -0.014       0.016\n",
      "exog3         -0.0113      0.007     -1.650      0.099      -0.025       0.002\n",
      "exog4          0.0020      0.006      0.308      0.758      -0.011       0.015\n",
      "L1.trf         1.4602      0.071     20.644      0.000       1.322       1.599\n",
      "L1.temp        0.0180      0.011      1.637      0.102      -0.004       0.039\n",
      "L2.trf        -1.3739      0.122    -11.220      0.000      -1.614      -1.134\n",
      "L2.temp        0.0148      0.010      1.499      0.134      -0.005       0.034\n",
      "L3.trf         0.8562      0.123      6.944      0.000       0.615       1.098\n",
      "L3.temp        0.0136      0.009      1.555      0.120      -0.004       0.031\n",
      "L4.trf        -0.6017      0.072     -8.331      0.000      -0.743      -0.460\n",
      "L4.temp        0.0098      0.008      1.211      0.226      -0.006       0.026\n",
      "Det. terms outside the coint. relation & lagged endog. parameters for equation temp\n",
      "==============================================================================\n",
      "                 coef    std err          z      P>|z|      [0.025      0.975]\n",
      "------------------------------------------------------------------------------\n",
      "const         -0.0567      0.013     -4.517      0.000      -0.081      -0.032\n",
      "exog1          0.0748      0.021      3.597      0.000       0.034       0.116\n",
      "exog2         -0.3637      0.056     -6.531      0.000      -0.473      -0.255\n",
      "exog3          0.3125      0.050      6.275      0.000       0.215       0.410\n",
      "exog4         -0.0141      0.047     -0.302      0.762      -0.106       0.078\n",
      "L1.trf        -0.0225      0.516     -0.044      0.965      -1.034       0.989\n",
      "L1.temp       -0.1102      0.080     -1.377      0.169      -0.267       0.047\n",
      "L2.trf        -0.4081      0.893     -0.457      0.648      -2.159       1.343\n",
      "L2.temp       -0.0968      0.072     -1.348      0.178      -0.238       0.044\n",
      "L3.trf         0.7501      0.899      0.834      0.404      -1.013       2.513\n",
      "L3.temp       -0.0974      0.064     -1.524      0.127      -0.223       0.028\n",
      "L4.trf        -0.6468      0.527     -1.228      0.220      -1.679       0.386\n",
      "L4.temp        0.0304      0.059      0.512      0.609      -0.086       0.147\n",
      "                Loading coefficients (alpha) for equation trf                 \n",
      "==============================================================================\n",
      "                 coef    std err          z      P>|z|      [0.025      0.975]\n",
      "------------------------------------------------------------------------------\n",
      "ec1            0.0220      0.005      4.299      0.000       0.012       0.032\n",
      "ec2           -0.0207      0.011     -1.874      0.061      -0.042       0.001\n",
      "                Loading coefficients (alpha) for equation temp                \n",
      "==============================================================================\n",
      "                 coef    std err          z      P>|z|      [0.025      0.975]\n",
      "------------------------------------------------------------------------------\n",
      "ec1            0.2554      0.037      6.856      0.000       0.182       0.328\n",
      "ec2           -0.6016      0.081     -7.449      0.000      -0.760      -0.443\n",
      "          Cointegration relations for loading-coefficients-column 1           \n",
      "==============================================================================\n",
      "                 coef    std err          z      P>|z|      [0.025      0.975]\n",
      "------------------------------------------------------------------------------\n",
      "beta.1         1.0000          0          0      0.000       1.000       1.000\n",
      "beta.2              0          0          0      0.000           0           0\n",
      "          Cointegration relations for loading-coefficients-column 2           \n",
      "==============================================================================\n",
      "                 coef    std err          z      P>|z|      [0.025      0.975]\n",
      "------------------------------------------------------------------------------\n",
      "beta.1      2.776e-17          0          0      0.000    2.78e-17    2.78e-17\n",
      "beta.2         1.0000          0          0      0.000       1.000       1.000\n",
      "==============================================================================\n"
     ]
    }
   ],
   "source": [
    "model = statsmodels.tsa.vector_ar.vecm.VECM(endog,exog=exo,k_ar_diff = 4, coint_rank = 2, deterministic = 'co')\n",
    "results = model.fit()\n",
    "print(results.summary(alpha=0.05))"
   ]
  },
  {
   "cell_type": "code",
   "execution_count": 20,
   "metadata": {},
   "outputs": [
    {
     "name": "stdout",
     "output_type": "stream",
     "text": [
      "<statsmodels.tsa.vector_ar.hypothesis_test_results.CausalityTestResults object. H_0: %s do not Granger-cause trf: reject at 5% significance level. Test statistic: 529094.027, critical value: 18.307>, p-value: 0.000>\n"
     ]
    },
    {
     "data": {
      "text/plain": [
       "0      0.309571\n",
       "1      0.083041\n",
       "2      0.026940\n",
       "3      0.132820\n",
       "4      0.188829\n",
       "         ...   \n",
       "145    0.390467\n",
       "146    0.390467\n",
       "147    0.390467\n",
       "148    0.390467\n",
       "149    0.390467\n",
       "Name: c, Length: 150, dtype: float64"
      ]
     },
     "execution_count": 20,
     "metadata": {},
     "output_type": "execute_result"
    }
   ],
   "source": [
    "test=results.test_causality('trf', ['trf', 'temp'], kind='wald')\n",
    "print(test)\n",
    "data[\"c\"]"
   ]
  },
  {
   "cell_type": "code",
   "execution_count": null,
   "metadata": {},
   "outputs": [],
   "source": []
  }
 ],
 "metadata": {
  "kernelspec": {
   "display_name": "Python 3",
   "language": "python",
   "name": "python3"
  },
  "language_info": {
   "codemirror_mode": {
    "name": "ipython",
    "version": 3
   },
   "file_extension": ".py",
   "mimetype": "text/x-python",
   "name": "python",
   "nbconvert_exporter": "python",
   "pygments_lexer": "ipython3",
   "version": "3.7.4"
  }
 },
 "nbformat": 4,
 "nbformat_minor": 2
}
