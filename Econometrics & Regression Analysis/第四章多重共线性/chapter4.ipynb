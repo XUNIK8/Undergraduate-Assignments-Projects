{
 "cells": [
  {
   "cell_type": "markdown",
   "metadata": {},
   "source": [
    "# 四. 多重线性回归"
   ]
  },
  {
   "cell_type": "code",
   "execution_count": 28,
   "metadata": {},
   "outputs": [],
   "source": [
    "import pandas as pd\n",
    "import numpy as np\n",
    "import matplotlib.pyplot as plt\n",
    "import statsmodels.api as sm\n",
    "from sklearn.decomposition import PCA\n",
    "from sklearn.model_selection import train_test_split"
   ]
  },
  {
   "cell_type": "markdown",
   "metadata": {},
   "source": [
    "## 1. 读取数据"
   ]
  },
  {
   "cell_type": "code",
   "execution_count": 29,
   "metadata": {},
   "outputs": [
    {
     "data": {
      "text/plain": "          x1    x2    x3     x4          x5       y\n0   213432.8  7240  4.75  633.6  123.700000  622.33\n1   253598.6  8755  4.75  712.6  121.400000  747.83\n2   229495.5  8265  4.75  654.1  118.933333  646.92\n3   219295.4  7780  4.75  717.0  121.333333  675.68\n4   197920.0  7725  4.75  713.1  122.866667  745.90\n..       ...   ...   ...    ...         ...     ...\n60   34544.6  3210  5.49  133.3   95.333333  131.10\n61   39767.4  3010  5.49  123.5   94.666667  122.80\n62   35291.9  2920  5.49  113.6   92.333333  112.10\n63   32537.3  3020  5.49  107.6   87.666667  110.00\n64   29825.5  3020  5.49  105.0   97.700000  102.10\n\n[65 rows x 6 columns]",
      "text/html": "<div>\n<style scoped>\n    .dataframe tbody tr th:only-of-type {\n        vertical-align: middle;\n    }\n\n    .dataframe tbody tr th {\n        vertical-align: top;\n    }\n\n    .dataframe thead th {\n        text-align: right;\n    }\n</style>\n<table border=\"1\" class=\"dataframe\">\n  <thead>\n    <tr style=\"text-align: right;\">\n      <th></th>\n      <th>x1</th>\n      <th>x2</th>\n      <th>x3</th>\n      <th>x4</th>\n      <th>x5</th>\n      <th>y</th>\n    </tr>\n  </thead>\n  <tbody>\n    <tr>\n      <th>0</th>\n      <td>213432.8</td>\n      <td>7240</td>\n      <td>4.75</td>\n      <td>633.6</td>\n      <td>123.700000</td>\n      <td>622.33</td>\n    </tr>\n    <tr>\n      <th>1</th>\n      <td>253598.6</td>\n      <td>8755</td>\n      <td>4.75</td>\n      <td>712.6</td>\n      <td>121.400000</td>\n      <td>747.83</td>\n    </tr>\n    <tr>\n      <th>2</th>\n      <td>229495.5</td>\n      <td>8265</td>\n      <td>4.75</td>\n      <td>654.1</td>\n      <td>118.933333</td>\n      <td>646.92</td>\n    </tr>\n    <tr>\n      <th>3</th>\n      <td>219295.4</td>\n      <td>7780</td>\n      <td>4.75</td>\n      <td>717.0</td>\n      <td>121.333333</td>\n      <td>675.68</td>\n    </tr>\n    <tr>\n      <th>4</th>\n      <td>197920.0</td>\n      <td>7725</td>\n      <td>4.75</td>\n      <td>713.1</td>\n      <td>122.866667</td>\n      <td>745.90</td>\n    </tr>\n    <tr>\n      <th>...</th>\n      <td>...</td>\n      <td>...</td>\n      <td>...</td>\n      <td>...</td>\n      <td>...</td>\n      <td>...</td>\n    </tr>\n    <tr>\n      <th>60</th>\n      <td>34544.6</td>\n      <td>3210</td>\n      <td>5.49</td>\n      <td>133.3</td>\n      <td>95.333333</td>\n      <td>131.10</td>\n    </tr>\n    <tr>\n      <th>61</th>\n      <td>39767.4</td>\n      <td>3010</td>\n      <td>5.49</td>\n      <td>123.5</td>\n      <td>94.666667</td>\n      <td>122.80</td>\n    </tr>\n    <tr>\n      <th>62</th>\n      <td>35291.9</td>\n      <td>2920</td>\n      <td>5.49</td>\n      <td>113.6</td>\n      <td>92.333333</td>\n      <td>112.10</td>\n    </tr>\n    <tr>\n      <th>63</th>\n      <td>32537.3</td>\n      <td>3020</td>\n      <td>5.49</td>\n      <td>107.6</td>\n      <td>87.666667</td>\n      <td>110.00</td>\n    </tr>\n    <tr>\n      <th>64</th>\n      <td>29825.5</td>\n      <td>3020</td>\n      <td>5.49</td>\n      <td>105.0</td>\n      <td>97.700000</td>\n      <td>102.10</td>\n    </tr>\n  </tbody>\n</table>\n<p>65 rows × 6 columns</p>\n</div>"
     },
     "execution_count": 29,
     "metadata": {},
     "output_type": "execute_result"
    }
   ],
   "source": [
    "data = pd.read_csv('./data.csv', encoding =  'UTF-8')\n",
    "# data = pd.read_excel('./data_1.xlsx')\n",
    "data"
   ]
  },
  {
   "cell_type": "markdown",
   "metadata": {},
   "source": [
    "提取因变量和自变量"
   ]
  },
  {
   "cell_type": "code",
   "execution_count": 30,
   "metadata": {},
   "outputs": [],
   "source": [
    "# data.csv\n",
    "X = data.iloc[:, 0:4]\n",
    "Y = data.iloc[:, 5]\n",
    "# data_1.xlsx\n",
    "# X = data.iloc[:, 2:]\n",
    "# Y = data.iloc[:, 1]"
   ]
  },
  {
   "cell_type": "markdown",
   "metadata": {},
   "source": [
    "## 2. 判断多重共线性"
   ]
  },
  {
   "cell_type": "markdown",
   "metadata": {},
   "source": [
    "ols法估计，R^2值高、F检验值高、且x1,x2，x3的t检验不显著"
   ]
  },
  {
   "cell_type": "code",
   "execution_count": 31,
   "metadata": {},
   "outputs": [
    {
     "name": "stderr",
     "output_type": "stream",
     "text": [
      "D:\\DataScience\\Anaconda202111\\Anaconda202111\\lib\\site-packages\\statsmodels\\tsa\\tsatools.py:142: FutureWarning: In a future version of pandas all arguments of concat except for the argument 'objs' will be keyword-only\n",
      "  x = pd.concat(x[::order], 1)\n"
     ]
    },
    {
     "data": {
      "text/plain": "<class 'statsmodels.iolib.summary.Summary'>\n\"\"\"\n                            OLS Regression Results                            \n==============================================================================\nDep. Variable:                      y   R-squared:                       0.962\nModel:                            OLS   Adj. R-squared:                  0.959\nMethod:                 Least Squares   F-statistic:                     375.3\nDate:                Mon, 13 Dec 2021   Prob (F-statistic):           1.04e-41\nTime:                        03:21:44   Log-Likelihood:                -338.70\nNo. Observations:                  65   AIC:                             687.4\nDf Residuals:                      60   BIC:                             698.3\nDf Model:                           4                                         \nCovariance Type:            nonrobust                                         \n==============================================================================\n                 coef    std err          t      P>|t|      [0.025      0.975]\n------------------------------------------------------------------------------\nconst        -50.6100     56.343     -0.898      0.373    -163.314      62.094\nx1             0.0003      0.000      1.137      0.260      -0.000       0.001\nx2             0.0054      0.005      1.116      0.269      -0.004       0.015\nx3             5.0498      9.311      0.542      0.590     -13.576      23.675\nx4             0.8801      0.083     10.637      0.000       0.715       1.046\n==============================================================================\nOmnibus:                       23.100   Durbin-Watson:                   2.160\nProb(Omnibus):                  0.000   Jarque-Bera (JB):              141.489\nSkew:                          -0.568   Prob(JB):                     1.89e-31\nKurtosis:                      10.138   Cond. No.                     1.33e+06\n==============================================================================\n\nNotes:\n[1] Standard Errors assume that the covariance matrix of the errors is correctly specified.\n[2] The condition number is large, 1.33e+06. This might indicate that there are\nstrong multicollinearity or other numerical problems.\n\"\"\"",
      "text/html": "<table class=\"simpletable\">\n<caption>OLS Regression Results</caption>\n<tr>\n  <th>Dep. Variable:</th>            <td>y</td>        <th>  R-squared:         </th> <td>   0.962</td>\n</tr>\n<tr>\n  <th>Model:</th>                   <td>OLS</td>       <th>  Adj. R-squared:    </th> <td>   0.959</td>\n</tr>\n<tr>\n  <th>Method:</th>             <td>Least Squares</td>  <th>  F-statistic:       </th> <td>   375.3</td>\n</tr>\n<tr>\n  <th>Date:</th>             <td>Mon, 13 Dec 2021</td> <th>  Prob (F-statistic):</th> <td>1.04e-41</td>\n</tr>\n<tr>\n  <th>Time:</th>                 <td>03:21:44</td>     <th>  Log-Likelihood:    </th> <td> -338.70</td>\n</tr>\n<tr>\n  <th>No. Observations:</th>      <td>    65</td>      <th>  AIC:               </th> <td>   687.4</td>\n</tr>\n<tr>\n  <th>Df Residuals:</th>          <td>    60</td>      <th>  BIC:               </th> <td>   698.3</td>\n</tr>\n<tr>\n  <th>Df Model:</th>              <td>     4</td>      <th>                     </th>     <td> </td>   \n</tr>\n<tr>\n  <th>Covariance Type:</th>      <td>nonrobust</td>    <th>                     </th>     <td> </td>   \n</tr>\n</table>\n<table class=\"simpletable\">\n<tr>\n    <td></td>       <th>coef</th>     <th>std err</th>      <th>t</th>      <th>P>|t|</th>  <th>[0.025</th>    <th>0.975]</th>  \n</tr>\n<tr>\n  <th>const</th> <td>  -50.6100</td> <td>   56.343</td> <td>   -0.898</td> <td> 0.373</td> <td> -163.314</td> <td>   62.094</td>\n</tr>\n<tr>\n  <th>x1</th>    <td>    0.0003</td> <td>    0.000</td> <td>    1.137</td> <td> 0.260</td> <td>   -0.000</td> <td>    0.001</td>\n</tr>\n<tr>\n  <th>x2</th>    <td>    0.0054</td> <td>    0.005</td> <td>    1.116</td> <td> 0.269</td> <td>   -0.004</td> <td>    0.015</td>\n</tr>\n<tr>\n  <th>x3</th>    <td>    5.0498</td> <td>    9.311</td> <td>    0.542</td> <td> 0.590</td> <td>  -13.576</td> <td>   23.675</td>\n</tr>\n<tr>\n  <th>x4</th>    <td>    0.8801</td> <td>    0.083</td> <td>   10.637</td> <td> 0.000</td> <td>    0.715</td> <td>    1.046</td>\n</tr>\n</table>\n<table class=\"simpletable\">\n<tr>\n  <th>Omnibus:</th>       <td>23.100</td> <th>  Durbin-Watson:     </th> <td>   2.160</td>\n</tr>\n<tr>\n  <th>Prob(Omnibus):</th> <td> 0.000</td> <th>  Jarque-Bera (JB):  </th> <td> 141.489</td>\n</tr>\n<tr>\n  <th>Skew:</th>          <td>-0.568</td> <th>  Prob(JB):          </th> <td>1.89e-31</td>\n</tr>\n<tr>\n  <th>Kurtosis:</th>      <td>10.138</td> <th>  Cond. No.          </th> <td>1.33e+06</td>\n</tr>\n</table><br/><br/>Notes:<br/>[1] Standard Errors assume that the covariance matrix of the errors is correctly specified.<br/>[2] The condition number is large, 1.33e+06. This might indicate that there are<br/>strong multicollinearity or other numerical problems."
     },
     "execution_count": 31,
     "metadata": {},
     "output_type": "execute_result"
    }
   ],
   "source": [
    "X1 = sm.add_constant(X) #加上一列常数1，这是回归模型中的常数项\n",
    "reg = sm.OLS(Y, X1) #生成回归模型\n",
    "model = reg.fit() #拟合数据\n",
    "model.summary()"
   ]
  },
  {
   "cell_type": "markdown",
   "metadata": {},
   "source": [
    "相关系数，对数据进行标准化处理（z-score标准化），可见有共线性"
   ]
  },
  {
   "cell_type": "code",
   "execution_count": 32,
   "metadata": {},
   "outputs": [
    {
     "data": {
      "text/plain": "          x1        x2        x3        x4\nx1  1.000000  0.703095 -0.464662  0.946787\nx2  0.703095  1.000000 -0.059720  0.719972\nx3 -0.464662 -0.059720  1.000000 -0.440459\nx4  0.946787  0.719972 -0.440459  1.000000",
      "text/html": "<div>\n<style scoped>\n    .dataframe tbody tr th:only-of-type {\n        vertical-align: middle;\n    }\n\n    .dataframe tbody tr th {\n        vertical-align: top;\n    }\n\n    .dataframe thead th {\n        text-align: right;\n    }\n</style>\n<table border=\"1\" class=\"dataframe\">\n  <thead>\n    <tr style=\"text-align: right;\">\n      <th></th>\n      <th>x1</th>\n      <th>x2</th>\n      <th>x3</th>\n      <th>x4</th>\n    </tr>\n  </thead>\n  <tbody>\n    <tr>\n      <th>x1</th>\n      <td>1.000000</td>\n      <td>0.703095</td>\n      <td>-0.464662</td>\n      <td>0.946787</td>\n    </tr>\n    <tr>\n      <th>x2</th>\n      <td>0.703095</td>\n      <td>1.000000</td>\n      <td>-0.059720</td>\n      <td>0.719972</td>\n    </tr>\n    <tr>\n      <th>x3</th>\n      <td>-0.464662</td>\n      <td>-0.059720</td>\n      <td>1.000000</td>\n      <td>-0.440459</td>\n    </tr>\n    <tr>\n      <th>x4</th>\n      <td>0.946787</td>\n      <td>0.719972</td>\n      <td>-0.440459</td>\n      <td>1.000000</td>\n    </tr>\n  </tbody>\n</table>\n</div>"
     },
     "execution_count": 32,
     "metadata": {},
     "output_type": "execute_result"
    }
   ],
   "source": [
    "X = (X - X.mean())/np.std(X)\n",
    "Y = (Y - Y.mean())/np.std(Y)\n",
    "X.corr()"
   ]
  },
  {
   "cell_type": "markdown",
   "metadata": {},
   "source": [
    "分割数据"
   ]
  },
  {
   "cell_type": "code",
   "execution_count": 33,
   "metadata": {},
   "outputs": [],
   "source": [
    "X_train, X_test, Y_train, Y_test = train_test_split(X,Y,train_size=0.7, random_state=1)"
   ]
  },
  {
   "cell_type": "markdown",
   "metadata": {},
   "source": [
    "## 3. 消除多重共线性（PCA法）"
   ]
  },
  {
   "cell_type": "markdown",
   "metadata": {},
   "source": [
    "对模型进行训练，返回降维后数据"
   ]
  },
  {
   "cell_type": "code",
   "execution_count": 34,
   "metadata": {},
   "outputs": [
    {
     "data": {
      "text/plain": "array([[ 1.570424  , -0.93829933],\n       [-2.30291629, -0.77854422],\n       [ 1.08351187,  1.16012196],\n       [ 0.32295353,  0.12070028],\n       [-2.42997178, -1.28607699],\n       [ 0.94438602,  1.02459601],\n       [-2.32801688, -0.77829169],\n       [-2.16486222, -0.67454388],\n       [-1.93978149,  0.1724962 ],\n       [ 0.01967437, -0.11280316],\n       [-1.32073297,  0.75801798],\n       [-1.97618471, -0.58105161],\n       [-2.40838564, -1.22822222],\n       [ 1.76706079, -0.97252849],\n       [ 0.72709636,  1.02691268],\n       [ 0.04243175,  0.80995503],\n       [ 0.04285174,  1.64586828],\n       [-0.56489392, -0.43367922],\n       [ 0.76723663,  1.11295505],\n       [ 2.05694611, -0.59451562],\n       [ 1.09836063, -0.50078143],\n       [ 0.36992529,  1.66065839],\n       [ 0.06051041,  1.56617018],\n       [-1.85288098,  1.97653715],\n       [-2.34741203, -1.22598376],\n       [-1.87922031,  0.17743686],\n       [ 1.09024765,  1.25227001],\n       [-2.57313034, -1.28851827],\n       [ 0.86909685,  1.12346043],\n       [ 0.81787884,  1.20212348],\n       [ 2.39110855, -0.8672501 ],\n       [-2.15215927,  1.44698343],\n       [ 1.77843682, -0.8036404 ],\n       [-2.52008806, -1.31471821],\n       [ 2.8243233 , -0.28218367],\n       [ 0.71865329,  0.46025756],\n       [ 1.8817035 , -0.74220526],\n       [ 0.83446377, -0.11817724],\n       [ 2.28376973, -0.72526617],\n       [ 1.29485017, -1.11822654],\n       [ 2.23823353, -0.94888151],\n       [ 1.79434283, -0.77141572],\n       [ 1.21440562, -1.07899312],\n       [-1.94424067,  1.69582372],\n       [-0.20000637, -0.22854681]])"
     },
     "execution_count": 34,
     "metadata": {},
     "output_type": "execute_result"
    }
   ],
   "source": [
    "pca = PCA(n_components='mle')\n",
    "pca.fit(X_train)\n",
    "X_train = pca.transform(X_train)\n",
    "Y_train= (Y_train - Y_train.mean())/np.std(Y)\n",
    "X_train "
   ]
  },
  {
   "cell_type": "markdown",
   "metadata": {},
   "source": [
    "## 4. 重建线性回归"
   ]
  },
  {
   "cell_type": "markdown",
   "metadata": {},
   "source": [
    "使用返回后的数据用线性回归模型建模，ols回归后R^2为0.933，p值小，说明模型拟合效果好"
   ]
  },
  {
   "cell_type": "code",
   "execution_count": 35,
   "metadata": {},
   "outputs": [
    {
     "data": {
      "text/plain": "<class 'statsmodels.iolib.summary.Summary'>\n\"\"\"\n                                 OLS Regression Results                                \n=======================================================================================\nDep. Variable:                      y   R-squared (uncentered):                   0.933\nModel:                            OLS   Adj. R-squared (uncentered):              0.929\nMethod:                 Least Squares   F-statistic:                              297.6\nDate:                Mon, 13 Dec 2021   Prob (F-statistic):                    6.49e-26\nTime:                        03:21:44   Log-Likelihood:                         -4.5617\nNo. Observations:                  45   AIC:                                      13.12\nDf Residuals:                      43   BIC:                                      16.74\nDf Model:                           2                                                  \nCovariance Type:            nonrobust                                                  \n==============================================================================\n                 coef    std err          t      P>|t|      [0.025      0.975]\n------------------------------------------------------------------------------\nx1             0.5940      0.024     24.341      0.000       0.545       0.643\nx2             0.0673      0.040      1.674      0.101      -0.014       0.148\n==============================================================================\nOmnibus:                        1.742   Durbin-Watson:                   2.091\nProb(Omnibus):                  0.419   Jarque-Bera (JB):                0.878\nSkew:                          -0.245   Prob(JB):                        0.645\nKurtosis:                       3.477   Cond. No.                         1.65\n==============================================================================\n\nNotes:\n[1] R² is computed without centering (uncentered) since the model does not contain a constant.\n[2] Standard Errors assume that the covariance matrix of the errors is correctly specified.\n\"\"\"",
      "text/html": "<table class=\"simpletable\">\n<caption>OLS Regression Results</caption>\n<tr>\n  <th>Dep. Variable:</th>            <td>y</td>        <th>  R-squared (uncentered):</th>      <td>   0.933</td>\n</tr>\n<tr>\n  <th>Model:</th>                   <td>OLS</td>       <th>  Adj. R-squared (uncentered):</th> <td>   0.929</td>\n</tr>\n<tr>\n  <th>Method:</th>             <td>Least Squares</td>  <th>  F-statistic:       </th>          <td>   297.6</td>\n</tr>\n<tr>\n  <th>Date:</th>             <td>Mon, 13 Dec 2021</td> <th>  Prob (F-statistic):</th>          <td>6.49e-26</td>\n</tr>\n<tr>\n  <th>Time:</th>                 <td>03:21:44</td>     <th>  Log-Likelihood:    </th>          <td> -4.5617</td>\n</tr>\n<tr>\n  <th>No. Observations:</th>      <td>    45</td>      <th>  AIC:               </th>          <td>   13.12</td>\n</tr>\n<tr>\n  <th>Df Residuals:</th>          <td>    43</td>      <th>  BIC:               </th>          <td>   16.74</td>\n</tr>\n<tr>\n  <th>Df Model:</th>              <td>     2</td>      <th>                     </th>              <td> </td>   \n</tr>\n<tr>\n  <th>Covariance Type:</th>      <td>nonrobust</td>    <th>                     </th>              <td> </td>   \n</tr>\n</table>\n<table class=\"simpletable\">\n<tr>\n   <td></td>     <th>coef</th>     <th>std err</th>      <th>t</th>      <th>P>|t|</th>  <th>[0.025</th>    <th>0.975]</th>  \n</tr>\n<tr>\n  <th>x1</th> <td>    0.5940</td> <td>    0.024</td> <td>   24.341</td> <td> 0.000</td> <td>    0.545</td> <td>    0.643</td>\n</tr>\n<tr>\n  <th>x2</th> <td>    0.0673</td> <td>    0.040</td> <td>    1.674</td> <td> 0.101</td> <td>   -0.014</td> <td>    0.148</td>\n</tr>\n</table>\n<table class=\"simpletable\">\n<tr>\n  <th>Omnibus:</th>       <td> 1.742</td> <th>  Durbin-Watson:     </th> <td>   2.091</td>\n</tr>\n<tr>\n  <th>Prob(Omnibus):</th> <td> 0.419</td> <th>  Jarque-Bera (JB):  </th> <td>   0.878</td>\n</tr>\n<tr>\n  <th>Skew:</th>          <td>-0.245</td> <th>  Prob(JB):          </th> <td>   0.645</td>\n</tr>\n<tr>\n  <th>Kurtosis:</th>      <td> 3.477</td> <th>  Cond. No.          </th> <td>    1.65</td>\n</tr>\n</table><br/><br/>Notes:<br/>[1] R² is computed without centering (uncentered) since the model does not contain a constant.<br/>[2] Standard Errors assume that the covariance matrix of the errors is correctly specified."
     },
     "execution_count": 35,
     "metadata": {},
     "output_type": "execute_result"
    }
   ],
   "source": [
    "import statsmodels.api as sm\n",
    "ols = sm.OLS(Y_train, X_train).fit()\n",
    "ols.summary()"
   ]
  },
  {
   "cell_type": "code",
   "execution_count": 36,
   "metadata": {},
   "outputs": [
    {
     "data": {
      "text/plain": "array([0.70103682, 0.2586647 ])"
     },
     "execution_count": 36,
     "metadata": {},
     "output_type": "execute_result"
    }
   ],
   "source": [
    "pca.explained_variance_ratio_"
   ]
  },
  {
   "cell_type": "code",
   "execution_count": 37,
   "metadata": {},
   "outputs": [
    {
     "data": {
      "text/plain": "{'copy': True,\n 'iterated_power': 'auto',\n 'n_components': 'mle',\n 'random_state': None,\n 'svd_solver': 'auto',\n 'tol': 0.0,\n 'whiten': False}"
     },
     "execution_count": 37,
     "metadata": {},
     "output_type": "execute_result"
    }
   ],
   "source": [
    "pca.get_params()"
   ]
  },
  {
   "cell_type": "code",
   "execution_count": 38,
   "metadata": {},
   "outputs": [
    {
     "data": {
      "text/plain": "0.9326301840968643"
     },
     "execution_count": 38,
     "metadata": {},
     "output_type": "execute_result"
    }
   ],
   "source": [
    "from sklearn.linear_model import LinearRegression\n",
    "lr = LinearRegression()\n",
    "lr.fit(X_train,Y_train)\n",
    "lr.score(X_train, Y_train)\n",
    "# X_test = data.iloc[64:, 0:4]\n",
    "# y_test = data.iloc[64:, 5]"
   ]
  },
  {
   "cell_type": "markdown",
   "metadata": {},
   "source": [
    "## 5. 测试集验证"
   ]
  },
  {
   "cell_type": "code",
   "execution_count": 39,
   "metadata": {},
   "outputs": [
    {
     "data": {
      "text/plain": "array([[-1.51024245, -0.21962447],\n       [-1.71293609, -0.7144579 ],\n       [-1.73266676,  1.22094126],\n       [ 3.12792355, -0.62282555],\n       [-1.53383462,  0.70006592],\n       [-1.52774474, -0.61751499],\n       [ 1.95957121,  1.06265604],\n       [ 1.02538936,  0.96167462],\n       [-1.66458408,  1.77898767],\n       [-0.59999531, -0.69743499],\n       [ 0.46131224, -0.25488547],\n       [-0.18712547, -0.6395096 ],\n       [-2.119587  , -1.31631745],\n       [ 0.55904671, -0.25298001],\n       [-0.7278439 , -0.4330191 ],\n       [-1.87791862, -1.18051858],\n       [-1.62320808,  0.16471934],\n       [ 3.11298947, -0.74480309],\n       [ 0.52238133,  1.1746119 ],\n       [ 1.25089457,  1.03010045]])"
     },
     "execution_count": 39,
     "metadata": {},
     "output_type": "execute_result"
    }
   ],
   "source": [
    "X_test = (X_test - X_test.mean())/np.std(X_test)\n",
    "X_test = pca.transform(X_test)\n",
    "X_test"
   ]
  },
  {
   "cell_type": "markdown",
   "metadata": {},
   "source": [
    "预测值"
   ]
  },
  {
   "cell_type": "code",
   "execution_count": 40,
   "metadata": {},
   "outputs": [
    {
     "data": {
      "text/plain": "array([-0.91181478, -1.06549217, -0.94703505,  1.81600913, -0.86396872,\n       -0.94897312,  1.23540678,  0.67373625, -0.86906112, -0.40329085,\n        0.25686302, -0.15416136, -1.34751326,  0.31504278, -0.46144457,\n       -1.19483491, -0.95306198,  1.79893438,  0.3892856 ,  0.81228255])"
     },
     "execution_count": 40,
     "metadata": {},
     "output_type": "execute_result"
    }
   ],
   "source": [
    "y_pred = lr.predict(X_test)\n",
    "y_pred"
   ]
  },
  {
   "cell_type": "markdown",
   "metadata": {},
   "source": [
    "真实值"
   ]
  },
  {
   "cell_type": "code",
   "execution_count": 41,
   "metadata": {},
   "outputs": [
    {
     "data": {
      "text/plain": "51   -1.037059\n55   -1.185173\n46   -0.921221\n2     0.957926\n47   -0.884966\n53   -1.133002\n21    1.404832\n26    0.226110\n44   -0.715188\n40   -0.704134\n36    0.158906\n39   -0.300026\n63   -1.415966\n35    0.169517\n27    0.345928\n58   -1.367332\n50   -1.137865\n3     1.085083\n31    0.095239\n24    0.640387\nName: y, dtype: float64"
     },
     "execution_count": 41,
     "metadata": {},
     "output_type": "execute_result"
    }
   ],
   "source": [
    "Y_test"
   ]
  },
  {
   "cell_type": "markdown",
   "metadata": {},
   "source": [
    "比较真实值与预测值"
   ]
  },
  {
   "cell_type": "code",
   "execution_count": 42,
   "metadata": {},
   "outputs": [
    {
     "data": {
      "text/plain": "Text(0, 0.5, 'The real Y')"
     },
     "execution_count": 42,
     "metadata": {},
     "output_type": "execute_result"
    },
    {
     "data": {
      "text/plain": "<Figure size 432x288 with 1 Axes>",
      "image/png": "[encoded data removed]"
     },
     "metadata": {
      "needs_background": "light"
     },
     "output_type": "display_data"
    }
   ],
   "source": [
    "plt.scatter(y_pred, Y_test)\n",
    "plt.xlabel('The predicted Y of LinearRegression')\n",
    "plt.ylabel('The real Y')"
   ]
  },
  {
   "cell_type": "markdown",
   "metadata": {},
   "source": [
    "R^2值为0.868，说明在测试集上回归效果较好，也说明PCA方法较好地消除了多重共线性"
   ]
  },
  {
   "cell_type": "code",
   "execution_count": 43,
   "metadata": {
    "pycharm": {
     "name": "#%%\n"
    }
   },
   "outputs": [
    {
     "data": {
      "text/plain": "<class 'statsmodels.iolib.summary.Summary'>\n\"\"\"\n                                 OLS Regression Results                                \n=======================================================================================\nDep. Variable:                      y   R-squared (uncentered):                   0.868\nModel:                            OLS   Adj. R-squared (uncentered):              0.862\nMethod:                 Least Squares   F-statistic:                              125.4\nDate:                Mon, 13 Dec 2021   Prob (F-statistic):                    8.25e-10\nTime:                        03:21:44   Log-Likelihood:                         -7.7443\nNo. Observations:                  20   AIC:                                      17.49\nDf Residuals:                      19   BIC:                                      18.48\nDf Model:                           1                                                  \nCovariance Type:            nonrobust                                                  \n==============================================================================\n                 coef    std err          t      P>|t|      [0.025      0.975]\n------------------------------------------------------------------------------\ny              1.0119      0.090     11.199      0.000       0.823       1.201\n==============================================================================\nOmnibus:                        7.487   Durbin-Watson:                   1.953\nProb(Omnibus):                  0.024   Jarque-Bera (JB):                6.318\nSkew:                          -0.601   Prob(JB):                       0.0425\nKurtosis:                       5.477   Cond. No.                         1.00\n==============================================================================\n\nNotes:\n[1] R² is computed without centering (uncentered) since the model does not contain a constant.\n[2] Standard Errors assume that the covariance matrix of the errors is correctly specified.\n\"\"\"",
      "text/html": "<table class=\"simpletable\">\n<caption>OLS Regression Results</caption>\n<tr>\n  <th>Dep. Variable:</th>            <td>y</td>        <th>  R-squared (uncentered):</th>      <td>   0.868</td>\n</tr>\n<tr>\n  <th>Model:</th>                   <td>OLS</td>       <th>  Adj. R-squared (uncentered):</th> <td>   0.862</td>\n</tr>\n<tr>\n  <th>Method:</th>             <td>Least Squares</td>  <th>  F-statistic:       </th>          <td>   125.4</td>\n</tr>\n<tr>\n  <th>Date:</th>             <td>Mon, 13 Dec 2021</td> <th>  Prob (F-statistic):</th>          <td>8.25e-10</td>\n</tr>\n<tr>\n  <th>Time:</th>                 <td>03:21:44</td>     <th>  Log-Likelihood:    </th>          <td> -7.7443</td>\n</tr>\n<tr>\n  <th>No. Observations:</th>      <td>    20</td>      <th>  AIC:               </th>          <td>   17.49</td>\n</tr>\n<tr>\n  <th>Df Residuals:</th>          <td>    19</td>      <th>  BIC:               </th>          <td>   18.48</td>\n</tr>\n<tr>\n  <th>Df Model:</th>              <td>     1</td>      <th>                     </th>              <td> </td>   \n</tr>\n<tr>\n  <th>Covariance Type:</th>      <td>nonrobust</td>    <th>                     </th>              <td> </td>   \n</tr>\n</table>\n<table class=\"simpletable\">\n<tr>\n  <td></td>     <th>coef</th>     <th>std err</th>      <th>t</th>      <th>P>|t|</th>  <th>[0.025</th>    <th>0.975]</th>  \n</tr>\n<tr>\n  <th>y</th> <td>    1.0119</td> <td>    0.090</td> <td>   11.199</td> <td> 0.000</td> <td>    0.823</td> <td>    1.201</td>\n</tr>\n</table>\n<table class=\"simpletable\">\n<tr>\n  <th>Omnibus:</th>       <td> 7.487</td> <th>  Durbin-Watson:     </th> <td>   1.953</td>\n</tr>\n<tr>\n  <th>Prob(Omnibus):</th> <td> 0.024</td> <th>  Jarque-Bera (JB):  </th> <td>   6.318</td>\n</tr>\n<tr>\n  <th>Skew:</th>          <td>-0.601</td> <th>  Prob(JB):          </th> <td>  0.0425</td>\n</tr>\n<tr>\n  <th>Kurtosis:</th>      <td> 5.477</td> <th>  Cond. No.          </th> <td>    1.00</td>\n</tr>\n</table><br/><br/>Notes:<br/>[1] R² is computed without centering (uncentered) since the model does not contain a constant.<br/>[2] Standard Errors assume that the covariance matrix of the errors is correctly specified."
     },
     "execution_count": 43,
     "metadata": {},
     "output_type": "execute_result"
    }
   ],
   "source": [
    "olsr = sm.OLS(y_pred, Y_test).fit()\n",
    "olsr.summary()"
   ]
  }
 ],
 "metadata": {
  "kernelspec": {
   "display_name": "PyCharm (DataAnalysis)",
   "language": "python",
   "name": "pycharm-ecd3a2c5"
  },
  "language_info": {
   "codemirror_mode": {
    "name": "ipython",
    "version": 3
   },
   "file_extension": ".py",
   "mimetype": "text/x-python",
   "name": "python",
   "nbconvert_exporter": "python",
   "pygments_lexer": "ipython3",
   "version": "3.9.7"
  }
 },
 "nbformat": 4,
 "nbformat_minor": 2
}